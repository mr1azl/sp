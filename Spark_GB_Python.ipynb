{
 "cells": [
  {
   "cell_type": "code",
   "execution_count": 1,
   "metadata": {
    "colab": {},
    "colab_type": "code",
    "id": "xeVpjwMEbZt7"
   },
   "outputs": [],
   "source": [
    "import pyspark"
   ]
  },
  {
   "cell_type": "code",
   "execution_count": 2,
   "metadata": {
    "colab": {},
    "colab_type": "code",
    "id": "6NwqBtz4fR9P"
   },
   "outputs": [],
   "source": [
    "from pyspark.sql import SparkSession\n",
    "import pyspark.sql.functions as F"
   ]
  },
  {
   "cell_type": "code",
   "execution_count": null,
   "metadata": {},
   "outputs": [],
   "source": []
  },
  {
   "cell_type": "code",
   "execution_count": 4,
   "metadata": {
    "colab": {},
    "colab_type": "code",
    "id": "SMb9bzFbbG-T"
   },
   "outputs": [],
   "source": [
    "spark = SparkSession.builder.appName('abc').getOrCreate()"
   ]
  },
  {
   "cell_type": "code",
   "execution_count": 5,
   "metadata": {
    "colab": {},
    "colab_type": "code",
    "id": "1NqwajVVbZNa"
   },
   "outputs": [],
   "source": [
    "df = spark.read.json('ga_sample.json.gz')"
   ]
  },
  {
   "cell_type": "code",
   "execution_count": 6,
   "metadata": {
    "colab": {
     "base_uri": "https://localhost:8080/",
     "height": 3158
    },
    "colab_type": "code",
    "id": "MordMpfkdbI6",
    "outputId": "3404b5b0-971b-4a00-e569-736aa1556c16"
   },
   "outputs": [
    {
     "name": "stdout",
     "output_type": "stream",
     "text": [
      "root\n",
      " |-- channelGrouping: string (nullable = true)\n",
      " |-- customDimensions: array (nullable = true)\n",
      " |    |-- element: struct (containsNull = true)\n",
      " |    |    |-- index: string (nullable = true)\n",
      " |    |    |-- value: string (nullable = true)\n",
      " |-- date: string (nullable = true)\n",
      " |-- device: struct (nullable = true)\n",
      " |    |-- browser: string (nullable = true)\n",
      " |    |-- browserSize: string (nullable = true)\n",
      " |    |-- browserVersion: string (nullable = true)\n",
      " |    |-- deviceCategory: string (nullable = true)\n",
      " |    |-- flashVersion: string (nullable = true)\n",
      " |    |-- isMobile: boolean (nullable = true)\n",
      " |    |-- language: string (nullable = true)\n",
      " |    |-- mobileDeviceBranding: string (nullable = true)\n",
      " |    |-- mobileDeviceInfo: string (nullable = true)\n",
      " |    |-- mobileDeviceMarketingName: string (nullable = true)\n",
      " |    |-- mobileDeviceModel: string (nullable = true)\n",
      " |    |-- mobileInputSelector: string (nullable = true)\n",
      " |    |-- operatingSystem: string (nullable = true)\n",
      " |    |-- operatingSystemVersion: string (nullable = true)\n",
      " |    |-- screenColors: string (nullable = true)\n",
      " |    |-- screenResolution: string (nullable = true)\n",
      " |-- fullVisitorId: string (nullable = true)\n",
      " |-- geoNetwork: struct (nullable = true)\n",
      " |    |-- city: string (nullable = true)\n",
      " |    |-- cityId: string (nullable = true)\n",
      " |    |-- continent: string (nullable = true)\n",
      " |    |-- country: string (nullable = true)\n",
      " |    |-- latitude: string (nullable = true)\n",
      " |    |-- longitude: string (nullable = true)\n",
      " |    |-- metro: string (nullable = true)\n",
      " |    |-- networkDomain: string (nullable = true)\n",
      " |    |-- networkLocation: string (nullable = true)\n",
      " |    |-- region: string (nullable = true)\n",
      " |    |-- subContinent: string (nullable = true)\n",
      " |-- hits: array (nullable = true)\n",
      " |    |-- element: struct (containsNull = true)\n",
      " |    |    |-- appInfo: struct (nullable = true)\n",
      " |    |    |    |-- exitScreenName: string (nullable = true)\n",
      " |    |    |    |-- landingScreenName: string (nullable = true)\n",
      " |    |    |    |-- screenDepth: string (nullable = true)\n",
      " |    |    |    |-- screenName: string (nullable = true)\n",
      " |    |    |-- contentGroup: struct (nullable = true)\n",
      " |    |    |    |-- contentGroup1: string (nullable = true)\n",
      " |    |    |    |-- contentGroup2: string (nullable = true)\n",
      " |    |    |    |-- contentGroup3: string (nullable = true)\n",
      " |    |    |    |-- contentGroup4: string (nullable = true)\n",
      " |    |    |    |-- contentGroup5: string (nullable = true)\n",
      " |    |    |    |-- contentGroupUniqueViews1: string (nullable = true)\n",
      " |    |    |    |-- contentGroupUniqueViews2: string (nullable = true)\n",
      " |    |    |    |-- contentGroupUniqueViews3: string (nullable = true)\n",
      " |    |    |    |-- previousContentGroup1: string (nullable = true)\n",
      " |    |    |    |-- previousContentGroup2: string (nullable = true)\n",
      " |    |    |    |-- previousContentGroup3: string (nullable = true)\n",
      " |    |    |    |-- previousContentGroup4: string (nullable = true)\n",
      " |    |    |    |-- previousContentGroup5: string (nullable = true)\n",
      " |    |    |-- customDimensions: array (nullable = true)\n",
      " |    |    |    |-- element: string (containsNull = true)\n",
      " |    |    |-- customMetrics: array (nullable = true)\n",
      " |    |    |    |-- element: string (containsNull = true)\n",
      " |    |    |-- customVariables: array (nullable = true)\n",
      " |    |    |    |-- element: string (containsNull = true)\n",
      " |    |    |-- dataSource: string (nullable = true)\n",
      " |    |    |-- eCommerceAction: struct (nullable = true)\n",
      " |    |    |    |-- action_type: string (nullable = true)\n",
      " |    |    |    |-- option: string (nullable = true)\n",
      " |    |    |    |-- step: string (nullable = true)\n",
      " |    |    |-- eventInfo: struct (nullable = true)\n",
      " |    |    |    |-- eventAction: string (nullable = true)\n",
      " |    |    |    |-- eventCategory: string (nullable = true)\n",
      " |    |    |    |-- eventLabel: string (nullable = true)\n",
      " |    |    |-- exceptionInfo: struct (nullable = true)\n",
      " |    |    |    |-- isFatal: boolean (nullable = true)\n",
      " |    |    |-- experiment: array (nullable = true)\n",
      " |    |    |    |-- element: string (containsNull = true)\n",
      " |    |    |-- hitNumber: string (nullable = true)\n",
      " |    |    |-- hour: string (nullable = true)\n",
      " |    |    |-- isEntrance: boolean (nullable = true)\n",
      " |    |    |-- isExit: boolean (nullable = true)\n",
      " |    |    |-- isInteraction: boolean (nullable = true)\n",
      " |    |    |-- item: struct (nullable = true)\n",
      " |    |    |    |-- currencyCode: string (nullable = true)\n",
      " |    |    |    |-- transactionId: string (nullable = true)\n",
      " |    |    |-- latencyTracking: struct (nullable = true)\n",
      " |    |    |    |-- domContentLoadedTime: string (nullable = true)\n",
      " |    |    |    |-- domInteractiveTime: string (nullable = true)\n",
      " |    |    |    |-- domLatencyMetricsSample: string (nullable = true)\n",
      " |    |    |    |-- domainLookupTime: string (nullable = true)\n",
      " |    |    |    |-- pageDownloadTime: string (nullable = true)\n",
      " |    |    |    |-- pageLoadSample: string (nullable = true)\n",
      " |    |    |    |-- pageLoadTime: string (nullable = true)\n",
      " |    |    |    |-- redirectionTime: string (nullable = true)\n",
      " |    |    |    |-- serverConnectionTime: string (nullable = true)\n",
      " |    |    |    |-- serverResponseTime: string (nullable = true)\n",
      " |    |    |    |-- speedMetricsSample: string (nullable = true)\n",
      " |    |    |-- minute: string (nullable = true)\n",
      " |    |    |-- page: struct (nullable = true)\n",
      " |    |    |    |-- hostname: string (nullable = true)\n",
      " |    |    |    |-- pagePath: string (nullable = true)\n",
      " |    |    |    |-- pagePathLevel1: string (nullable = true)\n",
      " |    |    |    |-- pagePathLevel2: string (nullable = true)\n",
      " |    |    |    |-- pagePathLevel3: string (nullable = true)\n",
      " |    |    |    |-- pagePathLevel4: string (nullable = true)\n",
      " |    |    |    |-- pageTitle: string (nullable = true)\n",
      " |    |    |    |-- searchCategory: string (nullable = true)\n",
      " |    |    |    |-- searchKeyword: string (nullable = true)\n",
      " |    |    |-- product: array (nullable = true)\n",
      " |    |    |    |-- element: struct (containsNull = true)\n",
      " |    |    |    |    |-- customDimensions: array (nullable = true)\n",
      " |    |    |    |    |    |-- element: string (containsNull = true)\n",
      " |    |    |    |    |-- customMetrics: array (nullable = true)\n",
      " |    |    |    |    |    |-- element: string (containsNull = true)\n",
      " |    |    |    |    |-- isClick: boolean (nullable = true)\n",
      " |    |    |    |    |-- isImpression: boolean (nullable = true)\n",
      " |    |    |    |    |-- localProductPrice: string (nullable = true)\n",
      " |    |    |    |    |-- localProductRevenue: string (nullable = true)\n",
      " |    |    |    |    |-- productBrand: string (nullable = true)\n",
      " |    |    |    |    |-- productListName: string (nullable = true)\n",
      " |    |    |    |    |-- productListPosition: string (nullable = true)\n",
      " |    |    |    |    |-- productPrice: string (nullable = true)\n",
      " |    |    |    |    |-- productQuantity: string (nullable = true)\n",
      " |    |    |    |    |-- productRevenue: string (nullable = true)\n",
      " |    |    |    |    |-- productSKU: string (nullable = true)\n",
      " |    |    |    |    |-- productVariant: string (nullable = true)\n",
      " |    |    |    |    |-- v2ProductCategory: string (nullable = true)\n",
      " |    |    |    |    |-- v2ProductName: string (nullable = true)\n",
      " |    |    |-- promotion: array (nullable = true)\n",
      " |    |    |    |-- element: struct (containsNull = true)\n",
      " |    |    |    |    |-- promoCreative: string (nullable = true)\n",
      " |    |    |    |    |-- promoId: string (nullable = true)\n",
      " |    |    |    |    |-- promoName: string (nullable = true)\n",
      " |    |    |    |    |-- promoPosition: string (nullable = true)\n",
      " |    |    |-- promotionActionInfo: struct (nullable = true)\n",
      " |    |    |    |-- promoIsClick: boolean (nullable = true)\n",
      " |    |    |    |-- promoIsView: boolean (nullable = true)\n",
      " |    |    |-- publisher_infos: array (nullable = true)\n",
      " |    |    |    |-- element: string (containsNull = true)\n",
      " |    |    |-- referer: string (nullable = true)\n",
      " |    |    |-- social: struct (nullable = true)\n",
      " |    |    |    |-- hasSocialSourceReferral: string (nullable = true)\n",
      " |    |    |    |-- socialInteractionNetworkAction: string (nullable = true)\n",
      " |    |    |    |-- socialNetwork: string (nullable = true)\n",
      " |    |    |-- time: string (nullable = true)\n",
      " |    |    |-- transaction: struct (nullable = true)\n",
      " |    |    |    |-- affiliation: string (nullable = true)\n",
      " |    |    |    |-- currencyCode: string (nullable = true)\n",
      " |    |    |    |-- localTransactionRevenue: string (nullable = true)\n",
      " |    |    |    |-- localTransactionShipping: string (nullable = true)\n",
      " |    |    |    |-- localTransactionTax: string (nullable = true)\n",
      " |    |    |    |-- transactionId: string (nullable = true)\n",
      " |    |    |    |-- transactionRevenue: string (nullable = true)\n",
      " |    |    |    |-- transactionShipping: string (nullable = true)\n",
      " |    |    |    |-- transactionTax: string (nullable = true)\n",
      " |    |    |-- type: string (nullable = true)\n",
      " |-- socialEngagementType: string (nullable = true)\n",
      " |-- totals: struct (nullable = true)\n",
      " |    |-- bounces: string (nullable = true)\n",
      " |    |-- hits: string (nullable = true)\n",
      " |    |-- newVisits: string (nullable = true)\n",
      " |    |-- pageviews: string (nullable = true)\n",
      " |    |-- sessionQualityDim: string (nullable = true)\n",
      " |    |-- timeOnSite: string (nullable = true)\n",
      " |    |-- totalTransactionRevenue: string (nullable = true)\n",
      " |    |-- transactionRevenue: string (nullable = true)\n",
      " |    |-- transactions: string (nullable = true)\n",
      " |    |-- visits: string (nullable = true)\n",
      " |-- trafficSource: struct (nullable = true)\n",
      " |    |-- adContent: string (nullable = true)\n",
      " |    |-- adwordsClickInfo: struct (nullable = true)\n",
      " |    |    |-- adNetworkType: string (nullable = true)\n",
      " |    |    |-- criteriaParameters: string (nullable = true)\n",
      " |    |    |-- gclId: string (nullable = true)\n",
      " |    |    |-- isVideoAd: boolean (nullable = true)\n",
      " |    |    |-- page: string (nullable = true)\n",
      " |    |    |-- slot: string (nullable = true)\n",
      " |    |-- campaign: string (nullable = true)\n",
      " |    |-- isTrueDirect: boolean (nullable = true)\n",
      " |    |-- keyword: string (nullable = true)\n",
      " |    |-- medium: string (nullable = true)\n",
      " |    |-- referralPath: string (nullable = true)\n",
      " |    |-- source: string (nullable = true)\n",
      " |-- visitId: string (nullable = true)\n",
      " |-- visitNumber: string (nullable = true)\n",
      " |-- visitStartTime: string (nullable = true)\n",
      "\n"
     ]
    }
   ],
   "source": [
    "df.printSchema()"
   ]
  },
  {
   "cell_type": "code",
   "execution_count": null,
   "metadata": {
    "colab": {},
    "colab_type": "code",
    "id": "w9-n3AC6e9Hf"
   },
   "outputs": [],
   "source": []
  },
  {
   "cell_type": "code",
   "execution_count": 7,
   "metadata": {
    "colab": {
     "base_uri": "https://localhost:8080/",
     "height": 34
    },
    "colab_type": "code",
    "id": "TgZDXiJ8e_bl",
    "outputId": "c2bfa139-e315-4e63-d531-e57b4e76ace9"
   },
   "outputs": [
    {
     "data": {
      "text/plain": [
       "2556"
      ]
     },
     "execution_count": 7,
     "metadata": {},
     "output_type": "execute_result"
    }
   ],
   "source": [
    "df.cache().count()"
   ]
  },
  {
   "cell_type": "code",
   "execution_count": 8,
   "metadata": {
    "colab": {
     "base_uri": "https://localhost:8080/",
     "height": 353
    },
    "colab_type": "code",
    "id": "ttGHgWbFeyrr",
    "outputId": "f3be5474-e145-490f-c7f3-9d10448debf9"
   },
   "outputs": [
    {
     "name": "stdout",
     "output_type": "stream",
     "text": [
      "+--------------------+-----+\n",
      "|             browser|count|\n",
      "+--------------------+-----+\n",
      "|Mozilla Compatibl...|    1|\n",
      "|   Internet Explorer|   54|\n",
      "|             Firefox|  101|\n",
      "|           YaBrowser|    2|\n",
      "|              Safari|  397|\n",
      "|       Nokia Browser|    2|\n",
      "|             Coc Coc|    2|\n",
      "|     Android Browser|    2|\n",
      "|          Opera Mini|   21|\n",
      "|     Android Webview|   19|\n",
      "|     Safari (in-app)|   10|\n",
      "|              Chrome| 1900|\n",
      "|          UC Browser|    6|\n",
      "|                Edge|   23|\n",
      "|               Opera|   16|\n",
      "+--------------------+-----+\n",
      "\n"
     ]
    }
   ],
   "source": [
    "df.groupBy('device.browser').count().show()"
   ]
  },
  {
   "cell_type": "code",
   "execution_count": 9,
   "metadata": {
    "colab": {
     "base_uri": "https://localhost:8080/",
     "height": 454
    },
    "colab_type": "code",
    "id": "aI_3TDg5d0-a",
    "outputId": "fb07e23a-fa86-4a5f-ffaa-eda27213593e"
   },
   "outputs": [
    {
     "name": "stdout",
     "output_type": "stream",
     "text": [
      "+------------------+-----+\n",
      "|transactionRevenue|count|\n",
      "+------------------+-----+\n",
      "|         135070000|    1|\n",
      "|        1000780000|    1|\n",
      "|          30790000|    1|\n",
      "|          48000000|    1|\n",
      "|        2933610000|    1|\n",
      "|          27430000|    1|\n",
      "|          11960000|    1|\n",
      "|         200000000|    1|\n",
      "|         170390000|    1|\n",
      "|          28790000|    1|\n",
      "|          82480000|    1|\n",
      "|         347140000|    1|\n",
      "|              null| 2513|\n",
      "|          27180000|    1|\n",
      "|          33500000|    1|\n",
      "|          67190000|    1|\n",
      "|           2990000|    1|\n",
      "|          29580000|    1|\n",
      "|         144690000|    1|\n",
      "|          44000000|    1|\n",
      "+------------------+-----+\n",
      "only showing top 20 rows\n",
      "\n"
     ]
    }
   ],
   "source": [
    "df.groupBy('totals.transactionRevenue').count().show()"
   ]
  },
  {
   "cell_type": "code",
   "execution_count": 10,
   "metadata": {
    "colab": {},
    "colab_type": "code",
    "id": "e54NiBZmeRXT"
   },
   "outputs": [],
   "source": [
    "df2 = df.withColumn('revenue', F.col('totals.transactionRevenue')/1000000)"
   ]
  },
  {
   "cell_type": "code",
   "execution_count": 11,
   "metadata": {
    "colab": {
     "base_uri": "https://localhost:8080/",
     "height": 118
    },
    "colab_type": "code",
    "id": "ZpRUzA5EfL6S",
    "outputId": "2e0ba2d4-4659-407a-d056-e843a7609930"
   },
   "outputs": [
    {
     "name": "stdout",
     "output_type": "stream",
     "text": [
      "+--------+-----+------------------+---------------------+------------------------+------------+\n",
      "|    date|count|sum(totals.visits)|sum(totals.pageviews)|sum(totals.transactions)|sum(revenue)|\n",
      "+--------+-----+------------------+---------------------+------------------------+------------+\n",
      "|20170801| 2556|            2556.0|              10939.0|                    45.0|     8304.94|\n",
      "+--------+-----+------------------+---------------------+------------------------+------------+\n",
      "\n"
     ]
    }
   ],
   "source": [
    "(df2\n",
    " .groupBy('date')\n",
    " .agg(\n",
    "     F.count('*').alias('count'),\n",
    "     F.sum('totals.visits'),\n",
    "     F.sum('totals.pageviews'),\n",
    "     F.sum('totals.transactions'),\n",
    "     F.sum('revenue'))\n",
    " ).show()"
   ]
  },
  {
   "cell_type": "code",
   "execution_count": 12,
   "metadata": {
    "colab": {
     "base_uri": "https://localhost:8080/",
     "height": 353
    },
    "colab_type": "code",
    "id": "eB_1XXC_fmeT",
    "outputId": "c927e523-fc8f-49c5-8e2a-8f855fde9f56"
   },
   "outputs": [
    {
     "name": "stdout",
     "output_type": "stream",
     "text": [
      "+--------------------+------------------+\n",
      "|             browser|total_transactions|\n",
      "+--------------------+------------------+\n",
      "|Mozilla Compatibl...|              null|\n",
      "|   Internet Explorer|              null|\n",
      "|             Firefox|               1.0|\n",
      "|           YaBrowser|              null|\n",
      "|              Safari|               3.0|\n",
      "|       Nokia Browser|              null|\n",
      "|             Coc Coc|              null|\n",
      "|     Android Browser|              null|\n",
      "|          Opera Mini|              null|\n",
      "|     Android Webview|              null|\n",
      "|     Safari (in-app)|              null|\n",
      "|              Chrome|              41.0|\n",
      "|          UC Browser|              null|\n",
      "|                Edge|              null|\n",
      "|               Opera|              null|\n",
      "+--------------------+------------------+\n",
      "\n"
     ]
    }
   ],
   "source": [
    "df2.groupBy('device.browser').agg(F.sum('totals.transactions').alias('total_transactions')).show()"
   ]
  },
  {
   "cell_type": "code",
   "execution_count": 13,
   "metadata": {
    "colab": {},
    "colab_type": "code",
    "id": "m921ULwLhuoU"
   },
   "outputs": [],
   "source": [
    "# https://support.google.com/analytics/answer/4419694?hl=fr"
   ]
  },
  {
   "cell_type": "code",
   "execution_count": 14,
   "metadata": {
    "colab": {
     "base_uri": "https://localhost:8080/",
     "height": 454
    },
    "colab_type": "code",
    "id": "KKX9O2-fgXSb",
    "outputId": "1a17a59f-94d8-4e63-c16c-4e1f5f211be1"
   },
   "outputs": [
    {
     "name": "stdout",
     "output_type": "stream",
     "text": [
      "+--------------------+------------+-------------+------------------+\n",
      "|              source|total_visits|total_bounces|       bounce_rate|\n",
      "+--------------------+------------+-------------+------------------+\n",
      "|           quora.com|           6|          4.0| 66.66666666666667|\n",
      "|         youtube.com|         180|        139.0| 77.22222222222223|\n",
      "|productforums.goo...|           1|          1.0|             100.0|\n",
      "|                bing|           1|         null|              null|\n",
      "|     lm.facebook.com|           2|         null|              null|\n",
      "|         m.baidu.com|           1|          1.0|             100.0|\n",
      "|      l.facebook.com|           3|          3.0|             100.0|\n",
      "| ph.search.yahoo.com|           1|          1.0|             100.0|\n",
      "|          google.com|          12|          9.0|              75.0|\n",
      "|     docs.google.com|           1|         null|              null|\n",
      "|        sashihara.jp|           1|          1.0|             100.0|\n",
      "|analytics.google.com|          57|         34.0| 59.64912280701754|\n",
      "|           qiita.com|           5|          2.0|              40.0|\n",
      "|               baidu|           5|          4.0|              80.0|\n",
      "|                 dfa|          15|          6.0|              40.0|\n",
      "|          reddit.com|           4|         null|              null|\n",
      "|        facebook.com|           7|          4.0|57.142857142857146|\n",
      "|       dealspotr.com|           1|         null|              null|\n",
      "|                 ask|           2|          2.0|             100.0|\n",
      "|            (direct)|        2166|        985.0|45.475530932594644|\n",
      "+--------------------+------------+-------------+------------------+\n",
      "only showing top 20 rows\n",
      "\n"
     ]
    }
   ],
   "source": [
    "(df2\n",
    " .groupBy('trafficSource.source')\n",
    " .agg(F.count('*').alias('total_visits'), \n",
    "      F.sum('totals.bounces').alias('total_bounces'),\n",
    "      (100*F.sum('totals.bounces')/F.count('*')).alias('bounce_rate')\n",
    "     )\n",
    " \n",
    " ).show()"
   ]
  },
  {
   "cell_type": "code",
   "execution_count": 15,
   "metadata": {
    "colab": {
     "base_uri": "https://localhost:8080/",
     "height": 454
    },
    "colab_type": "code",
    "id": "W5DNkUZzg_tD",
    "outputId": "b1cfc236-3b8a-43ba-906a-cc687bf81a69"
   },
   "outputs": [
    {
     "name": "stdout",
     "output_type": "stream",
     "text": [
      "+-------------------+-------------------------+----------------------+---------+\n",
      "|      fullVisitorId|total_pagesviews_per_user|avg_pageviews_per_user|nb_visits|\n",
      "+-------------------+-------------------------+----------------------+---------+\n",
      "|7420300501523012460|                    133.0|                  66.5|        2|\n",
      "|  03717831825503026|                     29.0|                  29.0|        1|\n",
      "|4417987816137194149|                     14.0|                  14.0|        1|\n",
      "| 454845221896711463|                     13.0|                  13.0|        1|\n",
      "|5371617068925994598|                     23.0|                  23.0|        1|\n",
      "| 351681171177883933|                     45.0|                  45.0|        1|\n",
      "|0377506370870345639|                     24.0|                  24.0|        1|\n",
      "|6403816382362616234|                     31.0|                  31.0|        1|\n",
      "| 698297406423033664|                     16.0|                  16.0|        1|\n",
      "|1996186587769697436|                     15.0|                  15.0|        1|\n",
      "|0815047945706399620|                     16.0|                  16.0|        1|\n",
      "|1685335291483410828|                     18.0|                  18.0|        1|\n",
      "|4871061239735971842|                     18.0|                  18.0|        1|\n",
      "|7311242886083854158|                     17.0|                  17.0|        1|\n",
      "|8730493892218660083|                     16.0|                  16.0|        1|\n",
      "|0126612099954375841|                     32.0|                  32.0|        1|\n",
      "| 654736404761929369|                     22.0|                  22.0|        1|\n",
      "|9800325346437826374|                     27.0|                  27.0|        1|\n",
      "|9308310352918219134|                     55.0|                  55.0|        1|\n",
      "|9591202457292182670|                     18.0|                  18.0|        1|\n",
      "+-------------------+-------------------------+----------------------+---------+\n",
      "only showing top 20 rows\n",
      "\n"
     ]
    }
   ],
   "source": [
    "(df2\n",
    " .filter('totals.transactions >= 1')\n",
    " .groupBy('fullVisitorId')\n",
    " .agg( F.sum('totals.pageviews').alias('total_pagesviews_per_user'),\n",
    "      (F.sum('totals.pageviews') / F.count('*')).alias('avg_pageviews_per_user'),\n",
    "       F.count('*').alias('nb_visits')\n",
    "     )\n",
    " .orderBy(F.desc('nb_visits'))\n",
    ").show()"
   ]
  },
  {
   "cell_type": "code",
   "execution_count": 16,
   "metadata": {
    "colab": {
     "base_uri": "https://localhost:8080/",
     "height": 101
    },
    "colab_type": "code",
    "id": "OeBwsqE2ic-z",
    "outputId": "7c12b0bd-6b11-4f2b-f9f3-05b9a396e144"
   },
   "outputs": [
    {
     "name": "stdout",
     "output_type": "stream",
     "text": [
      "+-------------+-------------------------+----------------------+---------+\n",
      "|fullVisitorId|total_pagesviews_per_user|avg_pageviews_per_user|nb_visits|\n",
      "+-------------+-------------------------+----------------------+---------+\n",
      "+-------------+-------------------------+----------------------+---------+\n",
      "\n"
     ]
    }
   ],
   "source": [
    "(df2\n",
    " .filter('totals.transactions = 0')\n",
    " .groupBy('fullVisitorId')\n",
    " .agg( F.sum('totals.pageviews').alias('total_pagesviews_per_user'),\n",
    "      (F.sum('totals.pageviews') / F.count('*')).alias('avg_pageviews_per_user'),\n",
    "       F.count('*').alias('nb_visits')\n",
    "     )\n",
    " .orderBy(F.desc('nb_visits'))\n",
    ").show()"
   ]
  },
  {
   "cell_type": "code",
   "execution_count": 17,
   "metadata": {
    "colab": {
     "base_uri": "https://localhost:8080/",
     "height": 2050
    },
    "colab_type": "code",
    "id": "GQ3noqhoXhFI",
    "outputId": "b46697ce-1623-4d46-934b-9396ad84f90c"
   },
   "outputs": [
    {
     "name": "stdout",
     "output_type": "stream",
     "text": [
      "root\n",
      " |-- hits: array (nullable = true)\n",
      " |    |-- element: struct (containsNull = true)\n",
      " |    |    |-- appInfo: struct (nullable = true)\n",
      " |    |    |    |-- exitScreenName: string (nullable = true)\n",
      " |    |    |    |-- landingScreenName: string (nullable = true)\n",
      " |    |    |    |-- screenDepth: string (nullable = true)\n",
      " |    |    |    |-- screenName: string (nullable = true)\n",
      " |    |    |-- contentGroup: struct (nullable = true)\n",
      " |    |    |    |-- contentGroup1: string (nullable = true)\n",
      " |    |    |    |-- contentGroup2: string (nullable = true)\n",
      " |    |    |    |-- contentGroup3: string (nullable = true)\n",
      " |    |    |    |-- contentGroup4: string (nullable = true)\n",
      " |    |    |    |-- contentGroup5: string (nullable = true)\n",
      " |    |    |    |-- contentGroupUniqueViews1: string (nullable = true)\n",
      " |    |    |    |-- contentGroupUniqueViews2: string (nullable = true)\n",
      " |    |    |    |-- contentGroupUniqueViews3: string (nullable = true)\n",
      " |    |    |    |-- previousContentGroup1: string (nullable = true)\n",
      " |    |    |    |-- previousContentGroup2: string (nullable = true)\n",
      " |    |    |    |-- previousContentGroup3: string (nullable = true)\n",
      " |    |    |    |-- previousContentGroup4: string (nullable = true)\n",
      " |    |    |    |-- previousContentGroup5: string (nullable = true)\n",
      " |    |    |-- customDimensions: array (nullable = true)\n",
      " |    |    |    |-- element: string (containsNull = true)\n",
      " |    |    |-- customMetrics: array (nullable = true)\n",
      " |    |    |    |-- element: string (containsNull = true)\n",
      " |    |    |-- customVariables: array (nullable = true)\n",
      " |    |    |    |-- element: string (containsNull = true)\n",
      " |    |    |-- dataSource: string (nullable = true)\n",
      " |    |    |-- eCommerceAction: struct (nullable = true)\n",
      " |    |    |    |-- action_type: string (nullable = true)\n",
      " |    |    |    |-- option: string (nullable = true)\n",
      " |    |    |    |-- step: string (nullable = true)\n",
      " |    |    |-- eventInfo: struct (nullable = true)\n",
      " |    |    |    |-- eventAction: string (nullable = true)\n",
      " |    |    |    |-- eventCategory: string (nullable = true)\n",
      " |    |    |    |-- eventLabel: string (nullable = true)\n",
      " |    |    |-- exceptionInfo: struct (nullable = true)\n",
      " |    |    |    |-- isFatal: boolean (nullable = true)\n",
      " |    |    |-- experiment: array (nullable = true)\n",
      " |    |    |    |-- element: string (containsNull = true)\n",
      " |    |    |-- hitNumber: string (nullable = true)\n",
      " |    |    |-- hour: string (nullable = true)\n",
      " |    |    |-- isEntrance: boolean (nullable = true)\n",
      " |    |    |-- isExit: boolean (nullable = true)\n",
      " |    |    |-- isInteraction: boolean (nullable = true)\n",
      " |    |    |-- item: struct (nullable = true)\n",
      " |    |    |    |-- currencyCode: string (nullable = true)\n",
      " |    |    |    |-- transactionId: string (nullable = true)\n",
      " |    |    |-- latencyTracking: struct (nullable = true)\n",
      " |    |    |    |-- domContentLoadedTime: string (nullable = true)\n",
      " |    |    |    |-- domInteractiveTime: string (nullable = true)\n",
      " |    |    |    |-- domLatencyMetricsSample: string (nullable = true)\n",
      " |    |    |    |-- domainLookupTime: string (nullable = true)\n",
      " |    |    |    |-- pageDownloadTime: string (nullable = true)\n",
      " |    |    |    |-- pageLoadSample: string (nullable = true)\n",
      " |    |    |    |-- pageLoadTime: string (nullable = true)\n",
      " |    |    |    |-- redirectionTime: string (nullable = true)\n",
      " |    |    |    |-- serverConnectionTime: string (nullable = true)\n",
      " |    |    |    |-- serverResponseTime: string (nullable = true)\n",
      " |    |    |    |-- speedMetricsSample: string (nullable = true)\n",
      " |    |    |-- minute: string (nullable = true)\n",
      " |    |    |-- page: struct (nullable = true)\n",
      " |    |    |    |-- hostname: string (nullable = true)\n",
      " |    |    |    |-- pagePath: string (nullable = true)\n",
      " |    |    |    |-- pagePathLevel1: string (nullable = true)\n",
      " |    |    |    |-- pagePathLevel2: string (nullable = true)\n",
      " |    |    |    |-- pagePathLevel3: string (nullable = true)\n",
      " |    |    |    |-- pagePathLevel4: string (nullable = true)\n",
      " |    |    |    |-- pageTitle: string (nullable = true)\n",
      " |    |    |    |-- searchCategory: string (nullable = true)\n",
      " |    |    |    |-- searchKeyword: string (nullable = true)\n",
      " |    |    |-- product: array (nullable = true)\n",
      " |    |    |    |-- element: struct (containsNull = true)\n",
      " |    |    |    |    |-- customDimensions: array (nullable = true)\n",
      " |    |    |    |    |    |-- element: string (containsNull = true)\n",
      " |    |    |    |    |-- customMetrics: array (nullable = true)\n",
      " |    |    |    |    |    |-- element: string (containsNull = true)\n",
      " |    |    |    |    |-- isClick: boolean (nullable = true)\n",
      " |    |    |    |    |-- isImpression: boolean (nullable = true)\n",
      " |    |    |    |    |-- localProductPrice: string (nullable = true)\n",
      " |    |    |    |    |-- localProductRevenue: string (nullable = true)\n",
      " |    |    |    |    |-- productBrand: string (nullable = true)\n",
      " |    |    |    |    |-- productListName: string (nullable = true)\n",
      " |    |    |    |    |-- productListPosition: string (nullable = true)\n",
      " |    |    |    |    |-- productPrice: string (nullable = true)\n",
      " |    |    |    |    |-- productQuantity: string (nullable = true)\n",
      " |    |    |    |    |-- productRevenue: string (nullable = true)\n",
      " |    |    |    |    |-- productSKU: string (nullable = true)\n",
      " |    |    |    |    |-- productVariant: string (nullable = true)\n",
      " |    |    |    |    |-- v2ProductCategory: string (nullable = true)\n",
      " |    |    |    |    |-- v2ProductName: string (nullable = true)\n",
      " |    |    |-- promotion: array (nullable = true)\n",
      " |    |    |    |-- element: struct (containsNull = true)\n",
      " |    |    |    |    |-- promoCreative: string (nullable = true)\n",
      " |    |    |    |    |-- promoId: string (nullable = true)\n",
      " |    |    |    |    |-- promoName: string (nullable = true)\n",
      " |    |    |    |    |-- promoPosition: string (nullable = true)\n",
      " |    |    |-- promotionActionInfo: struct (nullable = true)\n",
      " |    |    |    |-- promoIsClick: boolean (nullable = true)\n",
      " |    |    |    |-- promoIsView: boolean (nullable = true)\n",
      " |    |    |-- publisher_infos: array (nullable = true)\n",
      " |    |    |    |-- element: string (containsNull = true)\n",
      " |    |    |-- referer: string (nullable = true)\n",
      " |    |    |-- social: struct (nullable = true)\n",
      " |    |    |    |-- hasSocialSourceReferral: string (nullable = true)\n",
      " |    |    |    |-- socialInteractionNetworkAction: string (nullable = true)\n",
      " |    |    |    |-- socialNetwork: string (nullable = true)\n",
      " |    |    |-- time: string (nullable = true)\n",
      " |    |    |-- transaction: struct (nullable = true)\n",
      " |    |    |    |-- affiliation: string (nullable = true)\n",
      " |    |    |    |-- currencyCode: string (nullable = true)\n",
      " |    |    |    |-- localTransactionRevenue: string (nullable = true)\n",
      " |    |    |    |-- localTransactionShipping: string (nullable = true)\n",
      " |    |    |    |-- localTransactionTax: string (nullable = true)\n",
      " |    |    |    |-- transactionId: string (nullable = true)\n",
      " |    |    |    |-- transactionRevenue: string (nullable = true)\n",
      " |    |    |    |-- transactionShipping: string (nullable = true)\n",
      " |    |    |    |-- transactionTax: string (nullable = true)\n",
      " |    |    |-- type: string (nullable = true)\n",
      "\n"
     ]
    }
   ],
   "source": [
    "df2.select('hits').printSchema()"
   ]
  },
  {
   "cell_type": "code",
   "execution_count": null,
   "metadata": {
    "colab": {},
    "colab_type": "code",
    "id": "A-DEmWKpYFBV"
   },
   "outputs": [],
   "source": []
  },
  {
   "cell_type": "code",
   "execution_count": 18,
   "metadata": {
    "colab": {
     "base_uri": "https://localhost:8080/",
     "height": 286
    },
    "colab_type": "code",
    "id": "ptfW5OXfXqEd",
    "outputId": "810a3cb1-6a16-4120-b0ac-e0242b481991"
   },
   "outputs": [
    {
     "name": "stdout",
     "output_type": "stream",
     "text": [
      "+-------------------+----------+-----------+----------------------------------------+---------+\n",
      "|      fullVisitorId|   visitId|visitNumber|                                pagePath|hitNumber|\n",
      "+-------------------+----------+-----------+----------------------------------------+---------+\n",
      "|0004915997121163857|1501620292|          1|  /google+redesign/shop+by+brand/youtube|        1|\n",
      "|0013182148727187801|1501580378|          1|                                   /home|        1|\n",
      "|0013182148727187801|1501580378|          1|                                   /home|        3|\n",
      "|0013182148727187801|1501580378|          1|/google+redesign/bags/backpacks/water...|        5|\n",
      "|0013182148727187801|1501580378|          1|                                   /home|        6|\n",
      "|0013182148727187801|1501580378|          1|/google+redesign/drinkware/google+17o...|        7|\n",
      "|0013182148727187801|1501580378|          1|                                   /home|        4|\n",
      "|0013182148727187801|1501580378|          1|   /google+redesign/shop+by+brand/google|        2|\n",
      "|0015547161740087073|1501625964|          2|/google+redesign/office/notebooks+jou...|        1|\n",
      "|0017557475227585700|1501610006|          2|                                   /home|        1|\n",
      "+-------------------+----------+-----------+----------------------------------------+---------+\n",
      "only showing top 10 rows\n",
      "\n"
     ]
    }
   ],
   "source": [
    "(df2\n",
    " .select('*',F.explode('hits').alias('hit'))\n",
    " .select('fullVisitorId','visitId','visitNumber','hit.page.pagePath','hit.hitNumber')\n",
    " .orderBy('fullVisitorId','visitId')\n",
    ").show(10,40)"
   ]
  },
  {
   "cell_type": "code",
   "execution_count": null,
   "metadata": {
    "colab": {
     "base_uri": "https://localhost:8080/",
     "height": 34
    },
    "colab_type": "code",
    "id": "SL2BPav8XBJu",
    "outputId": "db725f44-c591-4bc1-ed2e-8a3e97822c7f"
   },
   "outputs": [],
   "source": []
  },
  {
   "cell_type": "code",
   "execution_count": 19,
   "metadata": {
    "colab": {},
    "colab_type": "code",
    "id": "LK4b2Yupei_s"
   },
   "outputs": [],
   "source": [
    "# temps ecoule depuis la derniere visite?"
   ]
  },
  {
   "cell_type": "code",
   "execution_count": 20,
   "metadata": {
    "colab": {},
    "colab_type": "code",
    "id": "Lwh-rPZ0dBHF"
   },
   "outputs": [],
   "source": [
    "# Quel est le nombre moyen d'interactions de l'utilisateur avant un achat ?"
   ]
  },
  {
   "cell_type": "code",
   "execution_count": 21,
   "metadata": {
    "colab": {
     "base_uri": "https://localhost:8080/",
     "height": 370
    },
    "colab_type": "code",
    "id": "pYSeW-yRg22z",
    "outputId": "a7a54263-a429-481d-8fa0-4d60625d3bf3"
   },
   "outputs": [
    {
     "name": "stdout",
     "output_type": "stream",
     "text": [
      "root\n",
      " |-- product: struct (nullable = true)\n",
      " |    |-- customDimensions: array (nullable = true)\n",
      " |    |    |-- element: string (containsNull = true)\n",
      " |    |-- customMetrics: array (nullable = true)\n",
      " |    |    |-- element: string (containsNull = true)\n",
      " |    |-- isClick: boolean (nullable = true)\n",
      " |    |-- isImpression: boolean (nullable = true)\n",
      " |    |-- localProductPrice: string (nullable = true)\n",
      " |    |-- localProductRevenue: string (nullable = true)\n",
      " |    |-- productBrand: string (nullable = true)\n",
      " |    |-- productListName: string (nullable = true)\n",
      " |    |-- productListPosition: string (nullable = true)\n",
      " |    |-- productPrice: string (nullable = true)\n",
      " |    |-- productQuantity: string (nullable = true)\n",
      " |    |-- productRevenue: string (nullable = true)\n",
      " |    |-- productSKU: string (nullable = true)\n",
      " |    |-- productVariant: string (nullable = true)\n",
      " |    |-- v2ProductCategory: string (nullable = true)\n",
      " |    |-- v2ProductName: string (nullable = true)\n",
      "\n"
     ]
    }
   ],
   "source": [
    "(df2\n",
    " .select(F.explode('hits').alias('hit'))\n",
    " .select(F.explode(F.col('hit').product).alias('product'))\n",
    " .select(F.col('product'))\n",
    " \n",
    ").printSchema()"
   ]
  },
  {
   "cell_type": "code",
   "execution_count": 22,
   "metadata": {
    "colab": {
     "base_uri": "https://localhost:8080/",
     "height": 454
    },
    "colab_type": "code",
    "id": "OrTrwqDWf9D_",
    "outputId": "959f482a-5b8b-43ae-b2cb-37c751723a19"
   },
   "outputs": [
    {
     "name": "stdout",
     "output_type": "stream",
     "text": [
      "+--------------------+--------------------+\n",
      "|   v2ProductCategory|       v2ProductName|\n",
      "+--------------------+--------------------+\n",
      "|   Home/Electronics/|   Google Flashlight|\n",
      "|Home/Shop by Bran...|Android Wool Heat...|\n",
      "|          Home/Bags/|Google Canvas Tot...|\n",
      "| Home/Apparel/Kid's/|Google Infant Sho...|\n",
      "|Home/Apparel/Wome...|Google Women's Co...|\n",
      "|Home/Apparel/Kid'...|Google Infant Sho...|\n",
      "| Home/Apparel/Men's/|Google Men's Colo...|\n",
      "| Home/Shop by Brand/|YouTube Men's Vin...|\n",
      "|Home/Accessories/...|Google Car Clip P...|\n",
      "|Home/Apparel/Men'...|Google Men's 100%...|\n",
      "|                 Fun|  Google Luggage Tag|\n",
      "|Home/Apparel/Men'...|Google Men's  Zip...|\n",
      "|Home/Apparel/Wome...|Google Women's We...|\n",
      "| Home/Shop by Brand/|      Windup Android|\n",
      "|Home/Apparel/Men'...|Google Men's Micr...|\n",
      "|Home/Shop by Bran...|22 oz Android Bottle|\n",
      "| Home/Apparel/Men's/|Google Men's 100%...|\n",
      "|Home/Office/Noteb...| Google RFID Journal|\n",
      "|Home/Office/Writi...|Ballpoint Stylus Pen|\n",
      "|Home/Bags/Shoppin...|Collapsible Shopp...|\n",
      "+--------------------+--------------------+\n",
      "only showing top 20 rows\n",
      "\n"
     ]
    }
   ],
   "source": [
    "(df2\n",
    " .select(F.explode('hits').alias('hit'))\n",
    " .select(F.explode(F.col('hit').product).alias('product'))\n",
    " .select('product.v2ProductCategory','product.v2ProductName')\n",
    " .distinct()\n",
    ").show()"
   ]
  },
  {
   "cell_type": "code",
   "execution_count": 23,
   "metadata": {
    "colab": {
     "base_uri": "https://localhost:8080/",
     "height": 454
    },
    "colab_type": "code",
    "id": "GMjTXNobh4lV",
    "outputId": "b4ed5572-d3cd-4a4d-ff98-7359572d32fd"
   },
   "outputs": [
    {
     "name": "stdout",
     "output_type": "stream",
     "text": [
      "+-------+--------------------+--------------------+\n",
      "|browser|   v2ProductCategory|       v2ProductName|\n",
      "+-------+--------------------+--------------------+\n",
      "| Chrome|   Home/Electronics/|Electronics Acces...|\n",
      "| Chrome|   Home/Electronics/|   Google Flashlight|\n",
      "| Chrome|   Home/Electronics/|Micro Wireless Ea...|\n",
      "| Chrome|   Home/Electronics/|Google Car Clip P...|\n",
      "| Chrome|   Home/Electronics/|Keyboard DOT Sticker|\n",
      "| Chrome|   Home/Electronics/|Google Device Hol...|\n",
      "| Chrome|   Home/Electronics/| Google Device Stand|\n",
      "| Chrome|   Home/Electronics/|Google 2200mAh Mi...|\n",
      "| Chrome|   Home/Electronics/|Google 4400mAh Po...|\n",
      "| Chrome|   Home/Electronics/|Basecamp Explorer...|\n",
      "| Chrome|   Home/Electronics/|   Rocket Flashlight|\n",
      "| Chrome|   Home/Electronics/|Plastic Sliding F...|\n",
      "| Chrome|Home/Apparel/Men'...|Google Tri-blend ...|\n",
      "| Chrome|Home/Apparel/Men'...|Google Men's  Zip...|\n",
      "| Chrome|Home/Apparel/Men'...|Google Men's Wate...|\n",
      "| Chrome|Home/Apparel/Men'...|Google Men's Airf...|\n",
      "| Chrome|Home/Apparel/Men'...|Google Men's Airf...|\n",
      "| Chrome|Home/Apparel/Men'...|Google Men's Conv...|\n",
      "| Chrome|Home/Apparel/Men'...|Google Men's Micr...|\n",
      "| Chrome|Home/Apparel/Men'...|Google Men's Quil...|\n",
      "+-------+--------------------+--------------------+\n",
      "only showing top 20 rows\n",
      "\n"
     ]
    }
   ],
   "source": [
    "(df2\n",
    " .select(F.col('device.browser').alias('browser'),F.explode('hits').alias('hit'))\n",
    " .select('browser',F.explode(F.col('hit').product).alias('product'))\n",
    " .select('browser','product.v2ProductCategory','product.v2ProductName')\n",
    "\n",
    ").show()"
   ]
  },
  {
   "cell_type": "code",
   "execution_count": 24,
   "metadata": {
    "colab": {
     "base_uri": "https://localhost:8080/",
     "height": 474
    },
    "colab_type": "code",
    "id": "I-l9b0HuhmUK",
    "outputId": "3a9d1abc-c912-4ac4-c78a-b0b7d9082611"
   },
   "outputs": [
    {
     "name": "stdout",
     "output_type": "stream",
     "text": [
      "+--------------------+---------------+---------------+------+-------+----+-------+-----------------+------------------------+-------------+-----+----------+------+---------------+----------+---------+\n",
      "|       v2ProductName|Android Browser|Android Webview|Chrome|Coc Coc|Edge|Firefox|Internet Explorer|Mozilla Compatible Agent|Nokia Browser|Opera|Opera Mini|Safari|Safari (in-app)|UC Browser|YaBrowser|\n",
      "+--------------------+---------------+---------------+------+-------+----+-------+-----------------+------------------------+-------------+-----+----------+------+---------------+----------+---------+\n",
      "|  Gift Card- $100.00|              0|              0|    17|      0|   0|      0|                0|                       0|            0|    0|         0|     0|              0|         0|        0|\n",
      "|Google Men's Perf...|              0|              0|   313|      0|   1|     10|                1|                       0|            0|    1|         0|    25|              0|         1|        1|\n",
      "|Android Women's S...|              0|              0|    46|      0|   0|      3|                2|                       0|            0|    0|         0|     7|              0|         0|        0|\n",
      "|Google Executive ...|              0|              0|    66|      0|   0|      4|                0|                       0|            0|    0|         0|     3|              0|         0|        0|\n",
      "|Google Women's Sc...|              0|              0|   128|      0|   0|      1|                1|                       0|            0|    0|         0|     8|              0|         0|        0|\n",
      "|Android Infant Sh...|              0|              0|    34|      0|   0|      1|                0|                       0|            0|    0|         0|     0|              0|         0|        0|\n",
      "|Google Stylus Pen...|              0|              0|    60|      0|   0|      6|                0|                       0|            0|    2|         0|    10|              0|         0|        0|\n",
      "| Red Shine 15 oz Mug|              0|              0|   173|      0|   1|     11|                1|                       0|            0|    3|         0|    13|              0|         0|        0|\n",
      "|YouTube Men's Sho...|              1|             10|   503|      1|  14|     44|               27|                       1|            2|    5|        17|   227|              1|        10|        1|\n",
      "|Google Women's Sh...|              0|              0|    14|      0|   0|      1|                0|                       0|            0|    0|         0|     3|              0|         0|        0|\n",
      "|Android RFID Journal|              0|              2|   263|      0|   1|     12|                4|                       0|            0|    4|         0|    27|              0|         0|        0|\n",
      "|Google Men's 100%...|              0|              0|    35|      0|   0|      3|                0|                       0|            0|    0|         0|     2|              0|         0|        0|\n",
      "|8 pc Android Stic...|              0|              0|   286|      0|   2|      7|                7|                       0|            0|    3|         1|    41|              0|         0|        0|\n",
      "|Google Women's 3/...|              0|              0|   145|      0|   0|      4|                1|                       0|            0|    0|         0|    12|              0|         0|        0|\n",
      "| Google Device Stand|              0|              2|   360|      0|   3|     13|                6|                       0|            0|    5|         0|    53|              0|         0|        0|\n",
      "|Micro Wireless Ea...|              0|              1|   247|      0|   2|      6|                5|                       0|            0|    5|         0|    26|              0|         0|        0|\n",
      "|Google Men's 100%...|              0|              0|   162|      0|   1|      5|                2|                       0|            0|    1|         0|     9|              0|         0|        1|\n",
      "|Waze Mobile Phone...|              0|              1|    72|      0|   1|      3|                0|                       0|            0|    1|         0|     1|              1|         0|        0|\n",
      "|      Google Bib Red|              0|              0|   183|      0|   1|     10|                1|                       0|            0|    3|         1|    46|              0|         0|        0|\n",
      "|Google Women's Sh...|              0|              2|    58|      0|   0|      3|                3|                       0|            0|    0|         0|     4|              0|         0|        0|\n",
      "+--------------------+---------------+---------------+------+-------+----+-------+-----------------+------------------------+-------------+-----+----------+------+---------------+----------+---------+\n",
      "only showing top 20 rows\n",
      "\n"
     ]
    }
   ],
   "source": [
    "(df2\n",
    " .select(F.col('device.browser').alias('browser'),F.explode('hits').alias('hit'))\n",
    " .select('browser',F.explode(F.col('hit').product).alias('product'))\n",
    " .select('browser','product.v2ProductCategory','product.v2ProductName')\n",
    " .groupBy('v2ProductName')\n",
    " .pivot('browser')\n",
    " .count()\n",
    " .fillna(0)\n",
    ").show()"
   ]
  },
  {
   "cell_type": "code",
   "execution_count": 25,
   "metadata": {
    "colab": {
     "base_uri": "https://localhost:8080/",
     "height": 353
    },
    "colab_type": "code",
    "id": "O8ZMin8UeHFn",
    "outputId": "1dcda7f5-86dc-40db-987b-25b1a477da8c"
   },
   "outputs": [
    {
     "data": {
      "text/plain": [
       "DataFrame[browser: string, count: bigint]"
      ]
     },
     "execution_count": 25,
     "metadata": {},
     "output_type": "execute_result"
    }
   ],
   "source": [
    "df2.groupBy('device.browser').count().orderBy(F.desc('count'))"
   ]
  },
  {
   "cell_type": "code",
   "execution_count": 26,
   "metadata": {
    "colab": {},
    "colab_type": "code",
    "id": "icn8Eps2i6oE"
   },
   "outputs": [],
   "source": [
    "new_browser = F.when(F.col('device.browser').isin('Chrome','Safari','Firefox','Internet Explorer'),F.col('device.browser')).otherwise('Other')"
   ]
  },
  {
   "cell_type": "code",
   "execution_count": 27,
   "metadata": {
    "colab": {
     "base_uri": "https://localhost:8080/",
     "height": 286
    },
    "colab_type": "code",
    "id": "mQKKVv6_i5lW",
    "outputId": "e7573023-c08e-4c96-fb29-10d57d3dc51a"
   },
   "outputs": [
    {
     "name": "stdout",
     "output_type": "stream",
     "text": [
      "+----------------------------------------+------+-------+-----------------+-----+------+\n",
      "|                           v2ProductName|Chrome|Firefox|Internet Explorer|Other|Safari|\n",
      "+----------------------------------------+------+-------+-----------------+-----+------+\n",
      "|                      Gift Card- $100.00|    17|      0|                0|    0|     0|\n",
      "|Google Men's Performance Full Zip Jac...|   313|     10|                1|    4|    25|\n",
      "|Android Women's Short Sleeve Badge Te...|    46|      3|                2|    0|     7|\n",
      "|               Google Executive Umbrella|    66|      4|                0|    0|     3|\n",
      "|     Google Women's Scoop Neck Tee Black|   128|      1|                1|    0|     8|\n",
      "|    Android Infant Short Sleeve Tee Pink|    34|      1|                0|    0|     0|\n",
      "|                     Red Shine 15 oz Mug|   173|     11|                1|    4|    13|\n",
      "|          Google Stylus Pen w/ LED Light|    60|      6|                0|    2|    10|\n",
      "|YouTube Men's Short Sleeve Hero Tee B...|   503|     44|               27|   63|   227|\n",
      "|Google Women's Short Sleeve Hero Tee ...|    14|      1|                0|    0|     3|\n",
      "+----------------------------------------+------+-------+-----------------+-----+------+\n",
      "only showing top 10 rows\n",
      "\n"
     ]
    }
   ],
   "source": [
    "(df2\n",
    " .select(new_browser.alias('browser'),F.explode('hits').alias('hit'))\n",
    " .select('browser',F.explode(F.col('hit').product).alias('product'))\n",
    " .select('browser','product.v2ProductCategory','product.v2ProductName')\n",
    " .groupBy('v2ProductName')\n",
    " .pivot('browser')\n",
    " .count()\n",
    " .fillna(0)\n",
    ").show(10,40)"
   ]
  },
  {
   "cell_type": "code",
   "execution_count": 28,
   "metadata": {
    "colab": {},
    "colab_type": "code",
    "id": "KRxdXpkbe4zb"
   },
   "outputs": [],
   "source": [
    "df3 = (df2\n",
    " .select(new_browser.alias('browser'),F.explode('hits').alias('hit'))\n",
    " .select('browser',F.explode(F.col('hit').product).alias('product'))\n",
    " .select('browser','product.v2ProductCategory','product.v2ProductName')\n",
    " .groupBy('v2ProductName')\n",
    " .pivot('browser')\n",
    " .count()\n",
    " .fillna(0)\n",
    ")"
   ]
  },
  {
   "cell_type": "code",
   "execution_count": 29,
   "metadata": {
    "colab": {
     "base_uri": "https://localhost:8080/",
     "height": 454
    },
    "colab_type": "code",
    "id": "wXrJ8fBffqKq",
    "outputId": "1940c3bb-5a7a-48c9-a678-41de3b041307"
   },
   "outputs": [
    {
     "name": "stdout",
     "output_type": "stream",
     "text": [
      "+--------------------+------+-------+-----------------+-----+------+\n",
      "|       v2ProductName|Chrome|Firefox|Internet Explorer|Other|Safari|\n",
      "+--------------------+------+-------+-----------------+-----+------+\n",
      "|Google Executive ...|    66|      4|                0|    0|     3|\n",
      "|Android Infant Sh...|    34|      1|                0|    0|     0|\n",
      "|Google Men's 100%...|    35|      3|                0|    0|     2|\n",
      "|Waze Mobile Phone...|    72|      3|                0|    4|     1|\n",
      "|Google Men's Vint...|     0|      1|                0|    0|     0|\n",
      "| Android Luggage Tag|   225|     16|                1|    4|    14|\n",
      "|Waze Mood Origina...|    95|      4|                1|    1|     3|\n",
      "|Satin Black Ballp...|    96|     15|                0|    2|    10|\n",
      "| 7&quot; Dog Frisbee|    36|      2|                0|    0|     1|\n",
      "|Metal Texture Rol...|    82|     13|                0|    2|    10|\n",
      "|Google G Noise-re...|   161|     10|                1|    5|     5|\n",
      "|Google Car Clip P...|   159|     13|                1|    2|    12|\n",
      "|Google Leather Jo...|    29|      3|                0|    0|     0|\n",
      "|  Google Luggage Tag|   200|     12|                1|    1|     6|\n",
      "|Google Leather Jo...|    22|      3|                0|    0|     0|\n",
      "|Waze Mood Ninja W...|    87|      4|                1|    1|     3|\n",
      "|Google Spiral Lea...|   112|      4|                0|    0|     2|\n",
      "|Google Women's Sh...|    31|      3|                1|    0|     2|\n",
      "|SPF-15 Slim & Sle...|   148|      6|                0|    1|     4|\n",
      "|Google Men's Vint...|     0|      1|                0|    0|     0|\n",
      "+--------------------+------+-------+-----------------+-----+------+\n",
      "only showing top 20 rows\n",
      "\n"
     ]
    }
   ],
   "source": [
    "df3.filter('Firefox > Safari').show()"
   ]
  },
  {
   "cell_type": "code",
   "execution_count": 30,
   "metadata": {
    "colab": {
     "base_uri": "https://localhost:8080/",
     "height": 454
    },
    "colab_type": "code",
    "id": "SrOkPyKojxQQ",
    "outputId": "bf411aa0-66cd-439a-b84a-73444da301a9"
   },
   "outputs": [
    {
     "name": "stdout",
     "output_type": "stream",
     "text": [
      "+--------------------+------+-------+-----------------+-----+------+\n",
      "|       v2ProductName|Chrome|Firefox|Internet Explorer|Other|Safari|\n",
      "+--------------------+------+-------+-----------------+-----+------+\n",
      "|Google Men's Perf...|   313|     10|                1|    4|    25|\n",
      "|Android Women's S...|    46|      3|                2|    0|     7|\n",
      "|Google Women's Sc...|   128|      1|                1|    0|     8|\n",
      "| Red Shine 15 oz Mug|   173|     11|                1|    4|    13|\n",
      "|Google Stylus Pen...|    60|      6|                0|    2|    10|\n",
      "|YouTube Men's Sho...|   503|     44|               27|   63|   227|\n",
      "|Google Women's Sh...|    14|      1|                0|    0|     3|\n",
      "|Android RFID Journal|   263|     12|                4|    7|    27|\n",
      "|8 pc Android Stic...|   286|      7|                7|    6|    41|\n",
      "|Google Women's 3/...|   145|      4|                1|    0|    12|\n",
      "| Google Device Stand|   360|     13|                6|   10|    53|\n",
      "|Micro Wireless Ea...|   247|      6|                5|    8|    26|\n",
      "|Google Men's 100%...|   162|      5|                2|    3|     9|\n",
      "|Google Women's Sh...|    58|      3|                3|    2|     4|\n",
      "|      Google Bib Red|   183|     10|                1|    5|    46|\n",
      "|Foam Can and Bott...|   200|      9|                1|    5|    16|\n",
      "|Google Infant Sho...|    53|      3|                0|    0|     9|\n",
      "|UpCycled Bike Sad...|   266|     10|                0|    3|    31|\n",
      "| Android Onesie Gold|    63|      3|                0|    0|     9|\n",
      "|    Google Bib White|   185|     12|                1|    5|    46|\n",
      "+--------------------+------+-------+-----------------+-----+------+\n",
      "only showing top 20 rows\n",
      "\n"
     ]
    }
   ],
   "source": [
    "df3.filter('Firefox < Safari').show()"
   ]
  },
  {
   "cell_type": "code",
   "execution_count": 32,
   "metadata": {
    "colab": {},
    "colab_type": "code",
    "id": "chMlZi1qj1GH"
   },
   "outputs": [],
   "source": [
    "df.write.save('ga_sample.parquet')"
   ]
  },
  {
   "cell_type": "markdown",
   "metadata": {},
   "source": [
    "## Parquet vs Json"
   ]
  },
  {
   "cell_type": "code",
   "execution_count": null,
   "metadata": {},
   "outputs": [],
   "source": []
  },
  {
   "cell_type": "code",
   "execution_count": 38,
   "metadata": {},
   "outputs": [
    {
     "name": "stdout",
     "output_type": "stream",
     "text": [
      "2556\n",
      "CPU times: user 0 ns, sys: 10 ms, total: 10 ms\n",
      "Wall time: 733 ms\n"
     ]
    }
   ],
   "source": [
    "%%time\n",
    "df_json = spark.read.json('ga_sample.json.gz')\n",
    "print(df_json.count())"
   ]
  },
  {
   "cell_type": "code",
   "execution_count": 39,
   "metadata": {},
   "outputs": [
    {
     "name": "stdout",
     "output_type": "stream",
     "text": [
      "2556\n",
      "CPU times: user 0 ns, sys: 0 ns, total: 0 ns\n",
      "Wall time: 299 ms\n"
     ]
    }
   ],
   "source": [
    "%%time\n",
    "df_parquet = spark.read.parquet('ga_sample.parquet')\n",
    "print(df_parquet.count())"
   ]
  },
  {
   "cell_type": "markdown",
   "metadata": {},
   "source": [
    "## RDDs"
   ]
  },
  {
   "cell_type": "code",
   "execution_count": 40,
   "metadata": {},
   "outputs": [],
   "source": [
    "rdd = spark.sparkContext.textFile('ga_sample.json.gz')"
   ]
  },
  {
   "cell_type": "code",
   "execution_count": 41,
   "metadata": {},
   "outputs": [
    {
     "data": {
      "text/plain": [
       "'{\"visitNumber\":\"1\",\"visitId\":\"1501583974\",\"visitStartTime\":\"1501583974\",\"date\":\"20170801\",\"totals\":{\"visits\":\"1\",\"hits\":\"1\",\"pageviews\":\"1\",\"bounces\":\"1\",\"newVisits\":\"1\",\"sessionQualityDim\":\"1\"},\"trafficSource\":{\"campaign\":\"(not set)\",\"source\":\"(direct)\",\"medium\":\"(none)\",\"adwordsClickInfo\":{\"criteriaParameters\":\"not available in demo dataset\"}},\"device\":{\"browser\":\"Chrome\",\"browserVersion\":\"not available in demo dataset\",\"browserSize\":\"not available in demo dataset\",\"operatingSystem\":\"Android\",\"operatingSystemVersion\":\"not available in demo dataset\",\"isMobile\":true,\"mobileDeviceBranding\":\"not available in demo dataset\",\"mobileDeviceModel\":\"not available in demo dataset\",\"mobileInputSelector\":\"not available in demo dataset\",\"mobileDeviceInfo\":\"not available in demo dataset\",\"mobileDeviceMarketingName\":\"not available in demo dataset\",\"flashVersion\":\"not available in demo dataset\",\"language\":\"not available in demo dataset\",\"screenColors\":\"not available in demo dataset\",\"screenResolution\":\"not available in demo dataset\",\"deviceCategory\":\"mobile\"},\"geoNetwork\":{\"continent\":\"Americas\",\"subContinent\":\"Caribbean\",\"country\":\"St. Lucia\",\"region\":\"(not set)\",\"metro\":\"(not set)\",\"city\":\"(not set)\",\"cityId\":\"not available in demo dataset\",\"networkDomain\":\"unknown.unknown\",\"latitude\":\"not available in demo dataset\",\"longitude\":\"not available in demo dataset\",\"networkLocation\":\"not available in demo dataset\"},\"customDimensions\":[],\"hits\":[{\"hitNumber\":\"1\",\"time\":\"0\",\"hour\":\"3\",\"minute\":\"39\",\"isInteraction\":true,\"isEntrance\":true,\"isExit\":true,\"referer\":\"http://www.google.com/\",\"page\":{\"pagePath\":\"/google+redesign/electronics\",\"hostname\":\"shop.googlemerchandisestore.com\",\"pageTitle\":\"Electronics | Google Merchandise Store\",\"pagePathLevel1\":\"/google+redesign/\",\"pagePathLevel2\":\"/electronics\",\"pagePathLevel3\":\"\",\"pagePathLevel4\":\"\"},\"transaction\":{\"currencyCode\":\"USD\"},\"item\":{\"currencyCode\":\"USD\"},\"appInfo\":{\"screenName\":\"shop.googlemerchandisestore.com/google+redesign/electronics\",\"landingScreenName\":\"shop.googlemerchandisestore.com/google+redesign/electronics\",\"exitScreenName\":\"shop.googlemerchandisestore.com/google+redesign/electronics\",\"screenDepth\":\"0\"},\"exceptionInfo\":{\"isFatal\":true},\"product\":[{\"productSKU\":\"GGOEGBFC018799\",\"v2ProductName\":\"Electronics Accessory Pouch\",\"v2ProductCategory\":\"Home/Electronics/\",\"productVariant\":\"(not set)\",\"productBrand\":\"(not set)\",\"productPrice\":\"4990000\",\"localProductPrice\":\"4990000\",\"isImpression\":true,\"customDimensions\":[],\"customMetrics\":[],\"productListName\":\"Category\",\"productListPosition\":\"1\"},{\"productSKU\":\"GGOEGESB015199\",\"v2ProductName\":\"Google Flashlight\",\"v2ProductCategory\":\"Home/Electronics/\",\"productVariant\":\"(not set)\",\"productBrand\":\"(not set)\",\"productPrice\":\"59990000\",\"localProductPrice\":\"59990000\",\"isImpression\":true,\"customDimensions\":[],\"customMetrics\":[],\"productListName\":\"Category\",\"productListPosition\":\"2\"},{\"productSKU\":\"GGOEGEVA022399\",\"v2ProductName\":\"Micro Wireless Earbud\",\"v2ProductCategory\":\"Home/Electronics/\",\"productVariant\":\"(not set)\",\"productBrand\":\"(not set)\",\"productPrice\":\"39990000\",\"localProductPrice\":\"39990000\",\"isImpression\":true,\"customDimensions\":[],\"customMetrics\":[],\"productListName\":\"Category\",\"productListPosition\":\"3\"},{\"productSKU\":\"GGOEGCBB074199\",\"v2ProductName\":\"Google Car Clip Phone Holder\",\"v2ProductCategory\":\"Home/Electronics/\",\"productVariant\":\"(not set)\",\"productBrand\":\"(not set)\",\"productPrice\":\"6990000\",\"localProductPrice\":\"6990000\",\"isImpression\":true,\"customDimensions\":[],\"customMetrics\":[],\"productListName\":\"Category\",\"productListPosition\":\"4\"},{\"productSKU\":\"GGOEGFKA022299\",\"v2ProductName\":\"Keyboard DOT Sticker\",\"v2ProductCategory\":\"Home/Electronics/\",\"productVariant\":\"(not set)\",\"productBrand\":\"(not set)\",\"productPrice\":\"1500000\",\"localProductPrice\":\"1500000\",\"isImpression\":true,\"customDimensions\":[],\"customMetrics\":[],\"productListName\":\"Category\",\"productListPosition\":\"5\"},{\"productSKU\":\"GGOEGCBB074399\",\"v2ProductName\":\"Google Device Holder Sticky Pad\",\"v2ProductCategory\":\"Home/Electronics/\",\"productVariant\":\"(not set)\",\"productBrand\":\"(not set)\",\"productPrice\":\"4990000\",\"localProductPrice\":\"4990000\",\"isImpression\":true,\"customDimensions\":[],\"customMetrics\":[],\"productListName\":\"Category\",\"productListPosition\":\"6\"},{\"productSKU\":\"GGOEGCBC074299\",\"v2ProductName\":\"Google Device Stand\",\"v2ProductCategory\":\"Home/Electronics/\",\"productVariant\":\"(not set)\",\"productBrand\":\"(not set)\",\"productPrice\":\"4990000\",\"localProductPrice\":\"4990000\",\"isImpression\":true,\"customDimensions\":[],\"customMetrics\":[],\"productListName\":\"Category\",\"productListPosition\":\"7\"},{\"productSKU\":\"GGOEGEHQ072499\",\"v2ProductName\":\"Google 2200mAh Micro Charger\",\"v2ProductCategory\":\"Home/Electronics/\",\"productVariant\":\"(not set)\",\"productBrand\":\"(not set)\",\"productPrice\":\"22990000\",\"localProductPrice\":\"22990000\",\"isImpression\":true,\"customDimensions\":[],\"customMetrics\":[],\"productListName\":\"Category\",\"productListPosition\":\"8\"},{\"productSKU\":\"GGOEGEHQ072599\",\"v2ProductName\":\"Google 4400mAh Power Bank\",\"v2ProductCategory\":\"Home/Electronics/\",\"productVariant\":\"(not set)\",\"productBrand\":\"(not set)\",\"productPrice\":\"37990000\",\"localProductPrice\":\"37990000\",\"isImpression\":true,\"customDimensions\":[],\"customMetrics\":[],\"productListName\":\"Category\",\"productListPosition\":\"9\"},{\"productSKU\":\"GGOEGESB015099\",\"v2ProductName\":\"Basecamp Explorer Powerbank Flashlight\",\"v2ProductCategory\":\"Home/Electronics/\",\"productVariant\":\"(not set)\",\"productBrand\":\"(not set)\",\"productPrice\":\"22990000\",\"localProductPrice\":\"22990000\",\"isImpression\":true,\"customDimensions\":[],\"customMetrics\":[],\"productListName\":\"Category\",\"productListPosition\":\"10\"},{\"productSKU\":\"GGOEGESC014099\",\"v2ProductName\":\"Rocket Flashlight\",\"v2ProductCategory\":\"Home/Electronics/\",\"productVariant\":\"(not set)\",\"productBrand\":\"(not set)\",\"productPrice\":\"4990000\",\"localProductPrice\":\"4990000\",\"isImpression\":true,\"customDimensions\":[],\"customMetrics\":[],\"productListName\":\"Category\",\"productListPosition\":\"11\"},{\"productSKU\":\"GGOEGESQ016799\",\"v2ProductName\":\"Plastic Sliding Flashlight\",\"v2ProductCategory\":\"Home/Electronics/\",\"productVariant\":\"(not set)\",\"productBrand\":\"(not set)\",\"productPrice\":\"12990000\",\"localProductPrice\":\"12990000\",\"isImpression\":true,\"customDimensions\":[],\"customMetrics\":[],\"productListName\":\"Category\",\"productListPosition\":\"12\"}],\"promotion\":[],\"eCommerceAction\":{\"action_type\":\"0\",\"step\":\"1\"},\"experiment\":[],\"customVariables\":[],\"customDimensions\":[],\"customMetrics\":[],\"type\":\"PAGE\",\"social\":{\"socialNetwork\":\"(not set)\",\"hasSocialSourceReferral\":\"No\",\"socialInteractionNetworkAction\":\" : \"},\"contentGroup\":{\"contentGroup1\":\"(not set)\",\"contentGroup2\":\"Electronics\",\"contentGroup3\":\"(not set)\",\"contentGroup4\":\"(not set)\",\"contentGroup5\":\"(not set)\",\"previousContentGroup1\":\"(entrance)\",\"previousContentGroup2\":\"(entrance)\",\"previousContentGroup3\":\"(entrance)\",\"previousContentGroup4\":\"(entrance)\",\"previousContentGroup5\":\"(entrance)\",\"contentGroupUniqueViews2\":\"1\"},\"dataSource\":\"web\",\"publisher_infos\":[]}],\"fullVisitorId\":\"2248281639583218707\",\"channelGrouping\":\"Organic Search\",\"socialEngagementType\":\"Not Socially Engaged\"}'"
      ]
     },
     "execution_count": 41,
     "metadata": {},
     "output_type": "execute_result"
    }
   ],
   "source": [
    "rdd.first()"
   ]
  },
  {
   "cell_type": "code",
   "execution_count": 43,
   "metadata": {},
   "outputs": [],
   "source": [
    "import json"
   ]
  },
  {
   "cell_type": "code",
   "execution_count": 44,
   "metadata": {},
   "outputs": [],
   "source": [
    "parsed = rdd.map(json.loads)"
   ]
  },
  {
   "cell_type": "code",
   "execution_count": 45,
   "metadata": {},
   "outputs": [
    {
     "data": {
      "text/plain": [
       "{'visitNumber': '1',\n",
       " 'visitId': '1501583974',\n",
       " 'visitStartTime': '1501583974',\n",
       " 'date': '20170801',\n",
       " 'totals': {'visits': '1',\n",
       "  'hits': '1',\n",
       "  'pageviews': '1',\n",
       "  'bounces': '1',\n",
       "  'newVisits': '1',\n",
       "  'sessionQualityDim': '1'},\n",
       " 'trafficSource': {'campaign': '(not set)',\n",
       "  'source': '(direct)',\n",
       "  'medium': '(none)',\n",
       "  'adwordsClickInfo': {'criteriaParameters': 'not available in demo dataset'}},\n",
       " 'device': {'browser': 'Chrome',\n",
       "  'browserVersion': 'not available in demo dataset',\n",
       "  'browserSize': 'not available in demo dataset',\n",
       "  'operatingSystem': 'Android',\n",
       "  'operatingSystemVersion': 'not available in demo dataset',\n",
       "  'isMobile': True,\n",
       "  'mobileDeviceBranding': 'not available in demo dataset',\n",
       "  'mobileDeviceModel': 'not available in demo dataset',\n",
       "  'mobileInputSelector': 'not available in demo dataset',\n",
       "  'mobileDeviceInfo': 'not available in demo dataset',\n",
       "  'mobileDeviceMarketingName': 'not available in demo dataset',\n",
       "  'flashVersion': 'not available in demo dataset',\n",
       "  'language': 'not available in demo dataset',\n",
       "  'screenColors': 'not available in demo dataset',\n",
       "  'screenResolution': 'not available in demo dataset',\n",
       "  'deviceCategory': 'mobile'},\n",
       " 'geoNetwork': {'continent': 'Americas',\n",
       "  'subContinent': 'Caribbean',\n",
       "  'country': 'St. Lucia',\n",
       "  'region': '(not set)',\n",
       "  'metro': '(not set)',\n",
       "  'city': '(not set)',\n",
       "  'cityId': 'not available in demo dataset',\n",
       "  'networkDomain': 'unknown.unknown',\n",
       "  'latitude': 'not available in demo dataset',\n",
       "  'longitude': 'not available in demo dataset',\n",
       "  'networkLocation': 'not available in demo dataset'},\n",
       " 'customDimensions': [],\n",
       " 'hits': [{'hitNumber': '1',\n",
       "   'time': '0',\n",
       "   'hour': '3',\n",
       "   'minute': '39',\n",
       "   'isInteraction': True,\n",
       "   'isEntrance': True,\n",
       "   'isExit': True,\n",
       "   'referer': 'http://www.google.com/',\n",
       "   'page': {'pagePath': '/google+redesign/electronics',\n",
       "    'hostname': 'shop.googlemerchandisestore.com',\n",
       "    'pageTitle': 'Electronics | Google Merchandise Store',\n",
       "    'pagePathLevel1': '/google+redesign/',\n",
       "    'pagePathLevel2': '/electronics',\n",
       "    'pagePathLevel3': '',\n",
       "    'pagePathLevel4': ''},\n",
       "   'transaction': {'currencyCode': 'USD'},\n",
       "   'item': {'currencyCode': 'USD'},\n",
       "   'appInfo': {'screenName': 'shop.googlemerchandisestore.com/google+redesign/electronics',\n",
       "    'landingScreenName': 'shop.googlemerchandisestore.com/google+redesign/electronics',\n",
       "    'exitScreenName': 'shop.googlemerchandisestore.com/google+redesign/electronics',\n",
       "    'screenDepth': '0'},\n",
       "   'exceptionInfo': {'isFatal': True},\n",
       "   'product': [{'productSKU': 'GGOEGBFC018799',\n",
       "     'v2ProductName': 'Electronics Accessory Pouch',\n",
       "     'v2ProductCategory': 'Home/Electronics/',\n",
       "     'productVariant': '(not set)',\n",
       "     'productBrand': '(not set)',\n",
       "     'productPrice': '4990000',\n",
       "     'localProductPrice': '4990000',\n",
       "     'isImpression': True,\n",
       "     'customDimensions': [],\n",
       "     'customMetrics': [],\n",
       "     'productListName': 'Category',\n",
       "     'productListPosition': '1'},\n",
       "    {'productSKU': 'GGOEGESB015199',\n",
       "     'v2ProductName': 'Google Flashlight',\n",
       "     'v2ProductCategory': 'Home/Electronics/',\n",
       "     'productVariant': '(not set)',\n",
       "     'productBrand': '(not set)',\n",
       "     'productPrice': '59990000',\n",
       "     'localProductPrice': '59990000',\n",
       "     'isImpression': True,\n",
       "     'customDimensions': [],\n",
       "     'customMetrics': [],\n",
       "     'productListName': 'Category',\n",
       "     'productListPosition': '2'},\n",
       "    {'productSKU': 'GGOEGEVA022399',\n",
       "     'v2ProductName': 'Micro Wireless Earbud',\n",
       "     'v2ProductCategory': 'Home/Electronics/',\n",
       "     'productVariant': '(not set)',\n",
       "     'productBrand': '(not set)',\n",
       "     'productPrice': '39990000',\n",
       "     'localProductPrice': '39990000',\n",
       "     'isImpression': True,\n",
       "     'customDimensions': [],\n",
       "     'customMetrics': [],\n",
       "     'productListName': 'Category',\n",
       "     'productListPosition': '3'},\n",
       "    {'productSKU': 'GGOEGCBB074199',\n",
       "     'v2ProductName': 'Google Car Clip Phone Holder',\n",
       "     'v2ProductCategory': 'Home/Electronics/',\n",
       "     'productVariant': '(not set)',\n",
       "     'productBrand': '(not set)',\n",
       "     'productPrice': '6990000',\n",
       "     'localProductPrice': '6990000',\n",
       "     'isImpression': True,\n",
       "     'customDimensions': [],\n",
       "     'customMetrics': [],\n",
       "     'productListName': 'Category',\n",
       "     'productListPosition': '4'},\n",
       "    {'productSKU': 'GGOEGFKA022299',\n",
       "     'v2ProductName': 'Keyboard DOT Sticker',\n",
       "     'v2ProductCategory': 'Home/Electronics/',\n",
       "     'productVariant': '(not set)',\n",
       "     'productBrand': '(not set)',\n",
       "     'productPrice': '1500000',\n",
       "     'localProductPrice': '1500000',\n",
       "     'isImpression': True,\n",
       "     'customDimensions': [],\n",
       "     'customMetrics': [],\n",
       "     'productListName': 'Category',\n",
       "     'productListPosition': '5'},\n",
       "    {'productSKU': 'GGOEGCBB074399',\n",
       "     'v2ProductName': 'Google Device Holder Sticky Pad',\n",
       "     'v2ProductCategory': 'Home/Electronics/',\n",
       "     'productVariant': '(not set)',\n",
       "     'productBrand': '(not set)',\n",
       "     'productPrice': '4990000',\n",
       "     'localProductPrice': '4990000',\n",
       "     'isImpression': True,\n",
       "     'customDimensions': [],\n",
       "     'customMetrics': [],\n",
       "     'productListName': 'Category',\n",
       "     'productListPosition': '6'},\n",
       "    {'productSKU': 'GGOEGCBC074299',\n",
       "     'v2ProductName': 'Google Device Stand',\n",
       "     'v2ProductCategory': 'Home/Electronics/',\n",
       "     'productVariant': '(not set)',\n",
       "     'productBrand': '(not set)',\n",
       "     'productPrice': '4990000',\n",
       "     'localProductPrice': '4990000',\n",
       "     'isImpression': True,\n",
       "     'customDimensions': [],\n",
       "     'customMetrics': [],\n",
       "     'productListName': 'Category',\n",
       "     'productListPosition': '7'},\n",
       "    {'productSKU': 'GGOEGEHQ072499',\n",
       "     'v2ProductName': 'Google 2200mAh Micro Charger',\n",
       "     'v2ProductCategory': 'Home/Electronics/',\n",
       "     'productVariant': '(not set)',\n",
       "     'productBrand': '(not set)',\n",
       "     'productPrice': '22990000',\n",
       "     'localProductPrice': '22990000',\n",
       "     'isImpression': True,\n",
       "     'customDimensions': [],\n",
       "     'customMetrics': [],\n",
       "     'productListName': 'Category',\n",
       "     'productListPosition': '8'},\n",
       "    {'productSKU': 'GGOEGEHQ072599',\n",
       "     'v2ProductName': 'Google 4400mAh Power Bank',\n",
       "     'v2ProductCategory': 'Home/Electronics/',\n",
       "     'productVariant': '(not set)',\n",
       "     'productBrand': '(not set)',\n",
       "     'productPrice': '37990000',\n",
       "     'localProductPrice': '37990000',\n",
       "     'isImpression': True,\n",
       "     'customDimensions': [],\n",
       "     'customMetrics': [],\n",
       "     'productListName': 'Category',\n",
       "     'productListPosition': '9'},\n",
       "    {'productSKU': 'GGOEGESB015099',\n",
       "     'v2ProductName': 'Basecamp Explorer Powerbank Flashlight',\n",
       "     'v2ProductCategory': 'Home/Electronics/',\n",
       "     'productVariant': '(not set)',\n",
       "     'productBrand': '(not set)',\n",
       "     'productPrice': '22990000',\n",
       "     'localProductPrice': '22990000',\n",
       "     'isImpression': True,\n",
       "     'customDimensions': [],\n",
       "     'customMetrics': [],\n",
       "     'productListName': 'Category',\n",
       "     'productListPosition': '10'},\n",
       "    {'productSKU': 'GGOEGESC014099',\n",
       "     'v2ProductName': 'Rocket Flashlight',\n",
       "     'v2ProductCategory': 'Home/Electronics/',\n",
       "     'productVariant': '(not set)',\n",
       "     'productBrand': '(not set)',\n",
       "     'productPrice': '4990000',\n",
       "     'localProductPrice': '4990000',\n",
       "     'isImpression': True,\n",
       "     'customDimensions': [],\n",
       "     'customMetrics': [],\n",
       "     'productListName': 'Category',\n",
       "     'productListPosition': '11'},\n",
       "    {'productSKU': 'GGOEGESQ016799',\n",
       "     'v2ProductName': 'Plastic Sliding Flashlight',\n",
       "     'v2ProductCategory': 'Home/Electronics/',\n",
       "     'productVariant': '(not set)',\n",
       "     'productBrand': '(not set)',\n",
       "     'productPrice': '12990000',\n",
       "     'localProductPrice': '12990000',\n",
       "     'isImpression': True,\n",
       "     'customDimensions': [],\n",
       "     'customMetrics': [],\n",
       "     'productListName': 'Category',\n",
       "     'productListPosition': '12'}],\n",
       "   'promotion': [],\n",
       "   'eCommerceAction': {'action_type': '0', 'step': '1'},\n",
       "   'experiment': [],\n",
       "   'customVariables': [],\n",
       "   'customDimensions': [],\n",
       "   'customMetrics': [],\n",
       "   'type': 'PAGE',\n",
       "   'social': {'socialNetwork': '(not set)',\n",
       "    'hasSocialSourceReferral': 'No',\n",
       "    'socialInteractionNetworkAction': ' : '},\n",
       "   'contentGroup': {'contentGroup1': '(not set)',\n",
       "    'contentGroup2': 'Electronics',\n",
       "    'contentGroup3': '(not set)',\n",
       "    'contentGroup4': '(not set)',\n",
       "    'contentGroup5': '(not set)',\n",
       "    'previousContentGroup1': '(entrance)',\n",
       "    'previousContentGroup2': '(entrance)',\n",
       "    'previousContentGroup3': '(entrance)',\n",
       "    'previousContentGroup4': '(entrance)',\n",
       "    'previousContentGroup5': '(entrance)',\n",
       "    'contentGroupUniqueViews2': '1'},\n",
       "   'dataSource': 'web',\n",
       "   'publisher_infos': []}],\n",
       " 'fullVisitorId': '2248281639583218707',\n",
       " 'channelGrouping': 'Organic Search',\n",
       " 'socialEngagementType': 'Not Socially Engaged'}"
      ]
     },
     "execution_count": 45,
     "metadata": {},
     "output_type": "execute_result"
    }
   ],
   "source": [
    "parsed.first()"
   ]
  },
  {
   "cell_type": "markdown",
   "metadata": {},
   "source": [
    "### Query 1"
   ]
  },
  {
   "cell_type": "code",
   "execution_count": 46,
   "metadata": {},
   "outputs": [
    {
     "name": "stdout",
     "output_type": "stream",
     "text": [
      "+-----------------+-----+\n",
      "|          browser|count|\n",
      "+-----------------+-----+\n",
      "|           Chrome| 1900|\n",
      "|           Safari|  397|\n",
      "|          Firefox|  101|\n",
      "|Internet Explorer|   54|\n",
      "|             Edge|   23|\n",
      "+-----------------+-----+\n",
      "only showing top 5 rows\n",
      "\n"
     ]
    }
   ],
   "source": [
    "# DataFrame\n",
    "df.groupBy('device.browser').count().orderBy(F.desc('count')).show(5)"
   ]
  },
  {
   "cell_type": "code",
   "execution_count": 49,
   "metadata": {},
   "outputs": [
    {
     "data": {
      "text/plain": [
       "[('Chrome', 1900),\n",
       " ('Safari', 397),\n",
       " ('Firefox', 101),\n",
       " ('Internet Explorer', 54),\n",
       " ('Edge', 23)]"
      ]
     },
     "execution_count": 49,
     "metadata": {},
     "output_type": "execute_result"
    }
   ],
   "source": [
    "# RDD\n",
    "(parsed\n",
    " .map(lambda x: (x['device']['browser'],1))\n",
    " .reduceByKey(lambda x,y: x+y)\n",
    " .top(5, key = lambda x : x[1])\n",
    ")"
   ]
  },
  {
   "cell_type": "markdown",
   "metadata": {},
   "source": [
    "### Query 2"
   ]
  },
  {
   "cell_type": "code",
   "execution_count": 51,
   "metadata": {},
   "outputs": [
    {
     "name": "stdout",
     "output_type": "stream",
     "text": [
      "+----------------------------------+-----+\n",
      "|v2ProductCategory                 |count|\n",
      "+----------------------------------+-----+\n",
      "|Home/Shop by Brand/YouTube/       |9386 |\n",
      "|Home/Apparel/Men's/Men's-T-Shirts/|4874 |\n",
      "|(not set)                         |3022 |\n",
      "|Home/Electronics/                 |2215 |\n",
      "|Home/Bags/                        |2101 |\n",
      "+----------------------------------+-----+\n",
      "only showing top 5 rows\n",
      "\n"
     ]
    }
   ],
   "source": [
    "# DataFrame\n",
    "(df2\n",
    " .select(F.explode('hits').alias('hit'))\n",
    " .select(F.explode(F.col('hit').product).alias('product'))\n",
    " .groupBy('product.v2ProductCategory')\n",
    " .count()\n",
    " .orderBy(F.desc('count'))\n",
    ").show(5,truncate=False)"
   ]
  },
  {
   "cell_type": "code",
   "execution_count": 52,
   "metadata": {},
   "outputs": [
    {
     "data": {
      "text/plain": [
       "[('Home/Shop by Brand/YouTube/', 9386),\n",
       " (\"Home/Apparel/Men's/Men's-T-Shirts/\", 4874),\n",
       " ('(not set)', 3022),\n",
       " ('Home/Electronics/', 2215),\n",
       " ('Home/Bags/', 2101)]"
      ]
     },
     "execution_count": 52,
     "metadata": {},
     "output_type": "execute_result"
    }
   ],
   "source": [
    "# RDD\n",
    "(parsed\n",
    " .flatMap(lambda x: [(product['v2ProductCategory'],1) for hit in x['hits'] for product in hit['product']])\n",
    " .reduceByKey(lambda x,y: x+y)\n",
    " .top(5, key = lambda x : x[1])\n",
    ")"
   ]
  },
  {
   "cell_type": "markdown",
   "metadata": {},
   "source": [
    "### Query 3 "
   ]
  },
  {
   "cell_type": "code",
   "execution_count": 54,
   "metadata": {},
   "outputs": [
    {
     "name": "stdout",
     "output_type": "stream",
     "text": [
      "+----------------------------------------+------+-------+-----------------+-----+------+\n",
      "|                           v2ProductName|Chrome|Firefox|Internet Explorer|Other|Safari|\n",
      "+----------------------------------------+------+-------+-----------------+-----+------+\n",
      "|                      Gift Card- $100.00|    17|      0|                0|    0|     0|\n",
      "|Google Men's Performance Full Zip Jac...|   313|     10|                1|    4|    25|\n",
      "|Android Women's Short Sleeve Badge Te...|    46|      3|                2|    0|     7|\n",
      "|               Google Executive Umbrella|    66|      4|                0|    0|     3|\n",
      "|     Google Women's Scoop Neck Tee Black|   128|      1|                1|    0|     8|\n",
      "|    Android Infant Short Sleeve Tee Pink|    34|      1|                0|    0|     0|\n",
      "|                     Red Shine 15 oz Mug|   173|     11|                1|    4|    13|\n",
      "|          Google Stylus Pen w/ LED Light|    60|      6|                0|    2|    10|\n",
      "|YouTube Men's Short Sleeve Hero Tee B...|   503|     44|               27|   63|   227|\n",
      "|Google Women's Short Sleeve Hero Tee ...|    14|      1|                0|    0|     3|\n",
      "+----------------------------------------+------+-------+-----------------+-----+------+\n",
      "only showing top 10 rows\n",
      "\n"
     ]
    }
   ],
   "source": [
    "# DataFrame\n",
    "(df2\n",
    " .select(new_browser.alias('browser'),F.explode('hits').alias('hit'))\n",
    " .select('browser',F.explode(F.col('hit').product).alias('product'))\n",
    " .select('browser','product.v2ProductCategory','product.v2ProductName')\n",
    " .groupBy('v2ProductName')\n",
    " .pivot('browser')\n",
    " .count()\n",
    " .fillna(0)\n",
    ").show(10,40)"
   ]
  },
  {
   "cell_type": "code",
   "execution_count": 55,
   "metadata": {},
   "outputs": [],
   "source": [
    "# RDD à faire "
   ]
  },
  {
   "cell_type": "markdown",
   "metadata": {},
   "source": [
    "## Hive "
   ]
  },
  {
   "cell_type": "code",
   "execution_count": 1,
   "metadata": {},
   "outputs": [],
   "source": [
    "from os.path import expanduser, join, abspath\n",
    "from pyspark.sql import SparkSession\n",
    "from pyspark.sql import Row\n",
    "\n",
    "warehouse_location = abspath('spark-warehouse')\n",
    "\n",
    "spark = SparkSession \\\n",
    "    .builder \\\n",
    "    .appName(\"Python Spark SQL Hive integration example\") \\\n",
    "    .config(\"spark.sql.warehouse.dir\", warehouse_location) \\\n",
    "    .enableHiveSupport() \\\n",
    "    .getOrCreate()"
   ]
  },
  {
   "cell_type": "code",
   "execution_count": 11,
   "metadata": {},
   "outputs": [
    {
     "name": "stdout",
     "output_type": "stream",
     "text": [
      "+--------+\n",
      "|    date|\n",
      "+--------+\n",
      "|20170801|\n",
      "|20170801|\n",
      "|20170801|\n",
      "|20170801|\n",
      "|20170801|\n",
      "+--------+\n",
      "only showing top 5 rows\n",
      "\n"
     ]
    }
   ],
   "source": [
    "spark.sql(\"select date from json.`ga_sample.json.gz`\").show(5)"
   ]
  },
  {
   "cell_type": "code",
   "execution_count": 10,
   "metadata": {},
   "outputs": [
    {
     "name": "stdout",
     "output_type": "stream",
     "text": [
      "+--------+\n",
      "|    date|\n",
      "+--------+\n",
      "|20170801|\n",
      "|20170801|\n",
      "|20170801|\n",
      "|20170801|\n",
      "|20170801|\n",
      "+--------+\n",
      "only showing top 5 rows\n",
      "\n"
     ]
    }
   ],
   "source": [
    "spark.sql(\"select date from parquet.`ga_sample.parquet`\").show(5)"
   ]
  },
  {
   "cell_type": "code",
   "execution_count": 4,
   "metadata": {},
   "outputs": [],
   "source": [
    "hiveDF = spark.sql(\"select * from json.`ga_sample.json.gz`\")"
   ]
  },
  {
   "cell_type": "code",
   "execution_count": 5,
   "metadata": {},
   "outputs": [
    {
     "name": "stdout",
     "output_type": "stream",
     "text": [
      "root\n",
      " |-- channelGrouping: string (nullable = true)\n",
      " |-- customDimensions: array (nullable = true)\n",
      " |    |-- element: struct (containsNull = true)\n",
      " |    |    |-- index: string (nullable = true)\n",
      " |    |    |-- value: string (nullable = true)\n",
      " |-- date: string (nullable = true)\n",
      " |-- device: struct (nullable = true)\n",
      " |    |-- browser: string (nullable = true)\n",
      " |    |-- browserSize: string (nullable = true)\n",
      " |    |-- browserVersion: string (nullable = true)\n",
      " |    |-- deviceCategory: string (nullable = true)\n",
      " |    |-- flashVersion: string (nullable = true)\n",
      " |    |-- isMobile: boolean (nullable = true)\n",
      " |    |-- language: string (nullable = true)\n",
      " |    |-- mobileDeviceBranding: string (nullable = true)\n",
      " |    |-- mobileDeviceInfo: string (nullable = true)\n",
      " |    |-- mobileDeviceMarketingName: string (nullable = true)\n",
      " |    |-- mobileDeviceModel: string (nullable = true)\n",
      " |    |-- mobileInputSelector: string (nullable = true)\n",
      " |    |-- operatingSystem: string (nullable = true)\n",
      " |    |-- operatingSystemVersion: string (nullable = true)\n",
      " |    |-- screenColors: string (nullable = true)\n",
      " |    |-- screenResolution: string (nullable = true)\n",
      " |-- fullVisitorId: string (nullable = true)\n",
      " |-- geoNetwork: struct (nullable = true)\n",
      " |    |-- city: string (nullable = true)\n",
      " |    |-- cityId: string (nullable = true)\n",
      " |    |-- continent: string (nullable = true)\n",
      " |    |-- country: string (nullable = true)\n",
      " |    |-- latitude: string (nullable = true)\n",
      " |    |-- longitude: string (nullable = true)\n",
      " |    |-- metro: string (nullable = true)\n",
      " |    |-- networkDomain: string (nullable = true)\n",
      " |    |-- networkLocation: string (nullable = true)\n",
      " |    |-- region: string (nullable = true)\n",
      " |    |-- subContinent: string (nullable = true)\n",
      " |-- hits: array (nullable = true)\n",
      " |    |-- element: struct (containsNull = true)\n",
      " |    |    |-- appInfo: struct (nullable = true)\n",
      " |    |    |    |-- exitScreenName: string (nullable = true)\n",
      " |    |    |    |-- landingScreenName: string (nullable = true)\n",
      " |    |    |    |-- screenDepth: string (nullable = true)\n",
      " |    |    |    |-- screenName: string (nullable = true)\n",
      " |    |    |-- contentGroup: struct (nullable = true)\n",
      " |    |    |    |-- contentGroup1: string (nullable = true)\n",
      " |    |    |    |-- contentGroup2: string (nullable = true)\n",
      " |    |    |    |-- contentGroup3: string (nullable = true)\n",
      " |    |    |    |-- contentGroup4: string (nullable = true)\n",
      " |    |    |    |-- contentGroup5: string (nullable = true)\n",
      " |    |    |    |-- contentGroupUniqueViews1: string (nullable = true)\n",
      " |    |    |    |-- contentGroupUniqueViews2: string (nullable = true)\n",
      " |    |    |    |-- contentGroupUniqueViews3: string (nullable = true)\n",
      " |    |    |    |-- previousContentGroup1: string (nullable = true)\n",
      " |    |    |    |-- previousContentGroup2: string (nullable = true)\n",
      " |    |    |    |-- previousContentGroup3: string (nullable = true)\n",
      " |    |    |    |-- previousContentGroup4: string (nullable = true)\n",
      " |    |    |    |-- previousContentGroup5: string (nullable = true)\n",
      " |    |    |-- customDimensions: array (nullable = true)\n",
      " |    |    |    |-- element: string (containsNull = true)\n",
      " |    |    |-- customMetrics: array (nullable = true)\n",
      " |    |    |    |-- element: string (containsNull = true)\n",
      " |    |    |-- customVariables: array (nullable = true)\n",
      " |    |    |    |-- element: string (containsNull = true)\n",
      " |    |    |-- dataSource: string (nullable = true)\n",
      " |    |    |-- eCommerceAction: struct (nullable = true)\n",
      " |    |    |    |-- action_type: string (nullable = true)\n",
      " |    |    |    |-- option: string (nullable = true)\n",
      " |    |    |    |-- step: string (nullable = true)\n",
      " |    |    |-- eventInfo: struct (nullable = true)\n",
      " |    |    |    |-- eventAction: string (nullable = true)\n",
      " |    |    |    |-- eventCategory: string (nullable = true)\n",
      " |    |    |    |-- eventLabel: string (nullable = true)\n",
      " |    |    |-- exceptionInfo: struct (nullable = true)\n",
      " |    |    |    |-- isFatal: boolean (nullable = true)\n",
      " |    |    |-- experiment: array (nullable = true)\n",
      " |    |    |    |-- element: string (containsNull = true)\n",
      " |    |    |-- hitNumber: string (nullable = true)\n",
      " |    |    |-- hour: string (nullable = true)\n",
      " |    |    |-- isEntrance: boolean (nullable = true)\n",
      " |    |    |-- isExit: boolean (nullable = true)\n",
      " |    |    |-- isInteraction: boolean (nullable = true)\n",
      " |    |    |-- item: struct (nullable = true)\n",
      " |    |    |    |-- currencyCode: string (nullable = true)\n",
      " |    |    |    |-- transactionId: string (nullable = true)\n",
      " |    |    |-- latencyTracking: struct (nullable = true)\n",
      " |    |    |    |-- domContentLoadedTime: string (nullable = true)\n",
      " |    |    |    |-- domInteractiveTime: string (nullable = true)\n",
      " |    |    |    |-- domLatencyMetricsSample: string (nullable = true)\n",
      " |    |    |    |-- domainLookupTime: string (nullable = true)\n",
      " |    |    |    |-- pageDownloadTime: string (nullable = true)\n",
      " |    |    |    |-- pageLoadSample: string (nullable = true)\n",
      " |    |    |    |-- pageLoadTime: string (nullable = true)\n",
      " |    |    |    |-- redirectionTime: string (nullable = true)\n",
      " |    |    |    |-- serverConnectionTime: string (nullable = true)\n",
      " |    |    |    |-- serverResponseTime: string (nullable = true)\n",
      " |    |    |    |-- speedMetricsSample: string (nullable = true)\n",
      " |    |    |-- minute: string (nullable = true)\n",
      " |    |    |-- page: struct (nullable = true)\n",
      " |    |    |    |-- hostname: string (nullable = true)\n",
      " |    |    |    |-- pagePath: string (nullable = true)\n",
      " |    |    |    |-- pagePathLevel1: string (nullable = true)\n",
      " |    |    |    |-- pagePathLevel2: string (nullable = true)\n",
      " |    |    |    |-- pagePathLevel3: string (nullable = true)\n",
      " |    |    |    |-- pagePathLevel4: string (nullable = true)\n",
      " |    |    |    |-- pageTitle: string (nullable = true)\n",
      " |    |    |    |-- searchCategory: string (nullable = true)\n",
      " |    |    |    |-- searchKeyword: string (nullable = true)\n",
      " |    |    |-- product: array (nullable = true)\n",
      " |    |    |    |-- element: struct (containsNull = true)\n",
      " |    |    |    |    |-- customDimensions: array (nullable = true)\n",
      " |    |    |    |    |    |-- element: string (containsNull = true)\n",
      " |    |    |    |    |-- customMetrics: array (nullable = true)\n",
      " |    |    |    |    |    |-- element: string (containsNull = true)\n",
      " |    |    |    |    |-- isClick: boolean (nullable = true)\n",
      " |    |    |    |    |-- isImpression: boolean (nullable = true)\n",
      " |    |    |    |    |-- localProductPrice: string (nullable = true)\n",
      " |    |    |    |    |-- localProductRevenue: string (nullable = true)\n",
      " |    |    |    |    |-- productBrand: string (nullable = true)\n",
      " |    |    |    |    |-- productListName: string (nullable = true)\n",
      " |    |    |    |    |-- productListPosition: string (nullable = true)\n",
      " |    |    |    |    |-- productPrice: string (nullable = true)\n",
      " |    |    |    |    |-- productQuantity: string (nullable = true)\n",
      " |    |    |    |    |-- productRevenue: string (nullable = true)\n",
      " |    |    |    |    |-- productSKU: string (nullable = true)\n",
      " |    |    |    |    |-- productVariant: string (nullable = true)\n",
      " |    |    |    |    |-- v2ProductCategory: string (nullable = true)\n",
      " |    |    |    |    |-- v2ProductName: string (nullable = true)\n",
      " |    |    |-- promotion: array (nullable = true)\n",
      " |    |    |    |-- element: struct (containsNull = true)\n",
      " |    |    |    |    |-- promoCreative: string (nullable = true)\n",
      " |    |    |    |    |-- promoId: string (nullable = true)\n",
      " |    |    |    |    |-- promoName: string (nullable = true)\n",
      " |    |    |    |    |-- promoPosition: string (nullable = true)\n",
      " |    |    |-- promotionActionInfo: struct (nullable = true)\n",
      " |    |    |    |-- promoIsClick: boolean (nullable = true)\n",
      " |    |    |    |-- promoIsView: boolean (nullable = true)\n",
      " |    |    |-- publisher_infos: array (nullable = true)\n",
      " |    |    |    |-- element: string (containsNull = true)\n",
      " |    |    |-- referer: string (nullable = true)\n",
      " |    |    |-- social: struct (nullable = true)\n",
      " |    |    |    |-- hasSocialSourceReferral: string (nullable = true)\n",
      " |    |    |    |-- socialInteractionNetworkAction: string (nullable = true)\n",
      " |    |    |    |-- socialNetwork: string (nullable = true)\n",
      " |    |    |-- time: string (nullable = true)\n",
      " |    |    |-- transaction: struct (nullable = true)\n",
      " |    |    |    |-- affiliation: string (nullable = true)\n",
      " |    |    |    |-- currencyCode: string (nullable = true)\n",
      " |    |    |    |-- localTransactionRevenue: string (nullable = true)\n",
      " |    |    |    |-- localTransactionShipping: string (nullable = true)\n",
      " |    |    |    |-- localTransactionTax: string (nullable = true)\n",
      " |    |    |    |-- transactionId: string (nullable = true)\n",
      " |    |    |    |-- transactionRevenue: string (nullable = true)\n",
      " |    |    |    |-- transactionShipping: string (nullable = true)\n",
      " |    |    |    |-- transactionTax: string (nullable = true)\n",
      " |    |    |-- type: string (nullable = true)\n",
      " |-- socialEngagementType: string (nullable = true)\n",
      " |-- totals: struct (nullable = true)\n",
      " |    |-- bounces: string (nullable = true)\n",
      " |    |-- hits: string (nullable = true)\n",
      " |    |-- newVisits: string (nullable = true)\n",
      " |    |-- pageviews: string (nullable = true)\n",
      " |    |-- sessionQualityDim: string (nullable = true)\n",
      " |    |-- timeOnSite: string (nullable = true)\n",
      " |    |-- totalTransactionRevenue: string (nullable = true)\n",
      " |    |-- transactionRevenue: string (nullable = true)\n",
      " |    |-- transactions: string (nullable = true)\n",
      " |    |-- visits: string (nullable = true)\n",
      " |-- trafficSource: struct (nullable = true)\n",
      " |    |-- adContent: string (nullable = true)\n",
      " |    |-- adwordsClickInfo: struct (nullable = true)\n",
      " |    |    |-- adNetworkType: string (nullable = true)\n",
      " |    |    |-- criteriaParameters: string (nullable = true)\n",
      " |    |    |-- gclId: string (nullable = true)\n",
      " |    |    |-- isVideoAd: boolean (nullable = true)\n",
      " |    |    |-- page: string (nullable = true)\n",
      " |    |    |-- slot: string (nullable = true)\n",
      " |    |-- campaign: string (nullable = true)\n",
      " |    |-- isTrueDirect: boolean (nullable = true)\n",
      " |    |-- keyword: string (nullable = true)\n",
      " |    |-- medium: string (nullable = true)\n",
      " |    |-- referralPath: string (nullable = true)\n",
      " |    |-- source: string (nullable = true)\n",
      " |-- visitId: string (nullable = true)\n",
      " |-- visitNumber: string (nullable = true)\n",
      " |-- visitStartTime: string (nullable = true)\n",
      "\n"
     ]
    }
   ],
   "source": [
    "hiveDF.printSchema()"
   ]
  },
  {
   "cell_type": "code",
   "execution_count": 9,
   "metadata": {},
   "outputs": [
    {
     "name": "stdout",
     "output_type": "stream",
     "text": [
      "+--------+\n",
      "|    date|\n",
      "+--------+\n",
      "|20170801|\n",
      "|20170801|\n",
      "|20170801|\n",
      "|20170801|\n",
      "|20170801|\n",
      "+--------+\n",
      "only showing top 5 rows\n",
      "\n"
     ]
    }
   ],
   "source": [
    "df_json = spark.read.json('ga_sample.json.gz')\n",
    "df_json.registerTempTable(\"ga_session\")\n",
    "\n",
    "spark.sql(\"select date from ga_session\").show(5)"
   ]
  },
  {
   "cell_type": "code",
   "execution_count": null,
   "metadata": {},
   "outputs": [],
   "source": []
  }
 ],
 "metadata": {
  "colab": {
   "collapsed_sections": [],
   "name": "Spark GB.ipynb",
   "provenance": [],
   "version": "0.3.2"
  },
  "kernelspec": {
   "display_name": "Python 3",
   "language": "python",
   "name": "python3"
  },
  "language_info": {
   "codemirror_mode": {
    "name": "ipython",
    "version": 3
   },
   "file_extension": ".py",
   "mimetype": "text/x-python",
   "name": "python",
   "nbconvert_exporter": "python",
   "pygments_lexer": "ipython3",
   "version": "3.6.7"
  }
 },
 "nbformat": 4,
 "nbformat_minor": 1
}
