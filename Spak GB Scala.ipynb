{
 "cells": [
  {
   "cell_type": "code",
   "execution_count": 1,
   "metadata": {},
   "outputs": [
    {
     "data": {
      "text/plain": [
       "org.apache.spark.sql.SparkSession@555fbcc9"
      ]
     },
     "execution_count": 1,
     "metadata": {},
     "output_type": "execute_result"
    }
   ],
   "source": [
    "spark"
   ]
  },
  {
   "cell_type": "code",
   "execution_count": 8,
   "metadata": {},
   "outputs": [
    {
     "data": {
      "text/plain": [
       "myspark = org.apache.spark.sql.SparkSession@30501b89\n"
      ]
     },
     "metadata": {},
     "output_type": "display_data"
    },
    {
     "data": {
      "text/plain": [
       "org.apache.spark.sql.SparkSession@30501b89"
      ]
     },
     "execution_count": 8,
     "metadata": {},
     "output_type": "execute_result"
    }
   ],
   "source": [
    "val myspark = spark"
   ]
  },
  {
   "cell_type": "code",
   "execution_count": 9,
   "metadata": {},
   "outputs": [],
   "source": [
    "import myspark.implicits._"
   ]
  },
  {
   "cell_type": "code",
   "execution_count": 10,
   "metadata": {},
   "outputs": [
    {
     "data": {
      "text/plain": [
       "import org.apache.spark.sql.{functions=>F}\n"
      ]
     },
     "metadata": {},
     "output_type": "display_data"
    }
   ],
   "source": [
    "import org.apache.spark.sql.{functions => F}"
   ]
  },
  {
   "cell_type": "code",
   "execution_count": 11,
   "metadata": {},
   "outputs": [
    {
     "data": {
      "text/plain": [
       "df = [channelGrouping: string, customDimensions: array<struct<index:string,value:string>> ... 11 more fields]\n"
      ]
     },
     "metadata": {},
     "output_type": "display_data"
    },
    {
     "data": {
      "text/plain": [
       "[channelGrouping: string, customDimensions: array<struct<index:string,value:string>> ... 11 more fields]"
      ]
     },
     "execution_count": 11,
     "metadata": {},
     "output_type": "execute_result"
    }
   ],
   "source": [
    "val df = spark.read.json(\"ga_sample.json.gz\")"
   ]
  },
  {
   "cell_type": "code",
   "execution_count": 15,
   "metadata": {},
   "outputs": [
    {
     "name": "stdout",
     "output_type": "stream",
     "text": [
      "root\n",
      " |-- channelGrouping: string (nullable = true)\n",
      " |-- customDimensions: array (nullable = true)\n",
      " |    |-- element: struct (containsNull = true)\n",
      " |    |    |-- index: string (nullable = true)\n",
      " |    |    |-- value: string (nullable = true)\n",
      " |-- date: string (nullable = true)\n",
      " |-- device: struct (nullable = true)\n",
      " |    |-- browser: string (nullable = true)\n",
      " |    |-- browserSize: string (nullable = true)\n",
      " |    |-- browserVersion: string (nullable = true)\n",
      " |    |-- deviceCategory: string (nullable = true)\n",
      " |    |-- flashVersion: string (nullable = true)\n",
      " |    |-- isMobile: boolean (nullable = true)\n",
      " |    |-- language: string (nullable = true)\n",
      " |    |-- mobileDeviceBranding: string (nullable = true)\n",
      " |    |-- mobileDeviceInfo: string (nullable = true)\n",
      " |    |-- mobileDeviceMarketingName: string (nullable = true)\n",
      " |    |-- mobileDeviceModel: string (nullable = true)\n",
      " |    |-- mobileInputSelector: string (nullable = true)\n",
      " |    |-- operatingSystem: string (nullable = true)\n",
      " |    |-- operatingSystemVersion: string (nullable = true)\n",
      " |    |-- screenColors: string (nullable = true)\n",
      " |    |-- screenResolution: string (nullable = true)\n",
      " |-- fullVisitorId: string (nullable = true)\n",
      " |-- geoNetwork: struct (nullable = true)\n",
      " |    |-- city: string (nullable = true)\n",
      " |    |-- cityId: string (nullable = true)\n",
      " |    |-- continent: string (nullable = true)\n",
      " |    |-- country: string (nullable = true)\n",
      " |    |-- latitude: string (nullable = true)\n",
      " |    |-- longitude: string (nullable = true)\n",
      " |    |-- metro: string (nullable = true)\n",
      " |    |-- networkDomain: string (nullable = true)\n",
      " |    |-- networkLocation: string (nullable = true)\n",
      " |    |-- region: string (nullable = true)\n",
      " |    |-- subContinent: string (nullable = true)\n",
      " |-- hits: array (nullable = true)\n",
      " |    |-- element: struct (containsNull = true)\n",
      " |    |    |-- appInfo: struct (nullable = true)\n",
      " |    |    |    |-- exitScreenName: string (nullable = true)\n",
      " |    |    |    |-- landingScreenName: string (nullable = true)\n",
      " |    |    |    |-- screenDepth: string (nullable = true)\n",
      " |    |    |    |-- screenName: string (nullable = true)\n",
      " |    |    |-- contentGroup: struct (nullable = true)\n",
      " |    |    |    |-- contentGroup1: string (nullable = true)\n",
      " |    |    |    |-- contentGroup2: string (nullable = true)\n",
      " |    |    |    |-- contentGroup3: string (nullable = true)\n",
      " |    |    |    |-- contentGroup4: string (nullable = true)\n",
      " |    |    |    |-- contentGroup5: string (nullable = true)\n",
      " |    |    |    |-- contentGroupUniqueViews1: string (nullable = true)\n",
      " |    |    |    |-- contentGroupUniqueViews2: string (nullable = true)\n",
      " |    |    |    |-- contentGroupUniqueViews3: string (nullable = true)\n",
      " |    |    |    |-- previousContentGroup1: string (nullable = true)\n",
      " |    |    |    |-- previousContentGroup2: string (nullable = true)\n",
      " |    |    |    |-- previousContentGroup3: string (nullable = true)\n",
      " |    |    |    |-- previousContentGroup4: string (nullable = true)\n",
      " |    |    |    |-- previousContentGroup5: string (nullable = true)\n",
      " |    |    |-- customDimensions: array (nullable = true)\n",
      " |    |    |    |-- element: string (containsNull = true)\n",
      " |    |    |-- customMetrics: array (nullable = true)\n",
      " |    |    |    |-- element: string (containsNull = true)\n",
      " |    |    |-- customVariables: array (nullable = true)\n",
      " |    |    |    |-- element: string (containsNull = true)\n",
      " |    |    |-- dataSource: string (nullable = true)\n",
      " |    |    |-- eCommerceAction: struct (nullable = true)\n",
      " |    |    |    |-- action_type: string (nullable = true)\n",
      " |    |    |    |-- option: string (nullable = true)\n",
      " |    |    |    |-- step: string (nullable = true)\n",
      " |    |    |-- eventInfo: struct (nullable = true)\n",
      " |    |    |    |-- eventAction: string (nullable = true)\n",
      " |    |    |    |-- eventCategory: string (nullable = true)\n",
      " |    |    |    |-- eventLabel: string (nullable = true)\n",
      " |    |    |-- exceptionInfo: struct (nullable = true)\n",
      " |    |    |    |-- isFatal: boolean (nullable = true)\n",
      " |    |    |-- experiment: array (nullable = true)\n",
      " |    |    |    |-- element: string (containsNull = true)\n",
      " |    |    |-- hitNumber: string (nullable = true)\n",
      " |    |    |-- hour: string (nullable = true)\n",
      " |    |    |-- isEntrance: boolean (nullable = true)\n",
      " |    |    |-- isExit: boolean (nullable = true)\n",
      " |    |    |-- isInteraction: boolean (nullable = true)\n",
      " |    |    |-- item: struct (nullable = true)\n",
      " |    |    |    |-- currencyCode: string (nullable = true)\n",
      " |    |    |    |-- transactionId: string (nullable = true)\n",
      " |    |    |-- latencyTracking: struct (nullable = true)\n",
      " |    |    |    |-- domContentLoadedTime: string (nullable = true)\n",
      " |    |    |    |-- domInteractiveTime: string (nullable = true)\n",
      " |    |    |    |-- domLatencyMetricsSample: string (nullable = true)\n",
      " |    |    |    |-- domainLookupTime: string (nullable = true)\n",
      " |    |    |    |-- pageDownloadTime: string (nullable = true)\n",
      " |    |    |    |-- pageLoadSample: string (nullable = true)\n",
      " |    |    |    |-- pageLoadTime: string (nullable = true)\n",
      " |    |    |    |-- redirectionTime: string (nullable = true)\n",
      " |    |    |    |-- serverConnectionTime: string (nullable = true)\n",
      " |    |    |    |-- serverResponseTime: string (nullable = true)\n",
      " |    |    |    |-- speedMetricsSample: string (nullable = true)\n",
      " |    |    |-- minute: string (nullable = true)\n",
      " |    |    |-- page: struct (nullable = true)\n",
      " |    |    |    |-- hostname: string (nullable = true)\n",
      " |    |    |    |-- pagePath: string (nullable = true)\n",
      " |    |    |    |-- pagePathLevel1: string (nullable = true)\n",
      " |    |    |    |-- pagePathLevel2: string (nullable = true)\n",
      " |    |    |    |-- pagePathLevel3: string (nullable = true)\n",
      " |    |    |    |-- pagePathLevel4: string (nullable = true)\n",
      " |    |    |    |-- pageTitle: string (nullable = true)\n",
      " |    |    |    |-- searchCategory: string (nullable = true)\n",
      " |    |    |    |-- searchKeyword: string (nullable = true)\n",
      " |    |    |-- product: array (nullable = true)\n",
      " |    |    |    |-- element: struct (containsNull = true)\n",
      " |    |    |    |    |-- customDimensions: array (nullable = true)\n",
      " |    |    |    |    |    |-- element: string (containsNull = true)\n",
      " |    |    |    |    |-- customMetrics: array (nullable = true)\n",
      " |    |    |    |    |    |-- element: string (containsNull = true)\n",
      " |    |    |    |    |-- isClick: boolean (nullable = true)\n",
      " |    |    |    |    |-- isImpression: boolean (nullable = true)\n",
      " |    |    |    |    |-- localProductPrice: string (nullable = true)\n",
      " |    |    |    |    |-- localProductRevenue: string (nullable = true)\n",
      " |    |    |    |    |-- productBrand: string (nullable = true)\n",
      " |    |    |    |    |-- productListName: string (nullable = true)\n",
      " |    |    |    |    |-- productListPosition: string (nullable = true)\n",
      " |    |    |    |    |-- productPrice: string (nullable = true)\n",
      " |    |    |    |    |-- productQuantity: string (nullable = true)\n",
      " |    |    |    |    |-- productRevenue: string (nullable = true)\n",
      " |    |    |    |    |-- productSKU: string (nullable = true)\n",
      " |    |    |    |    |-- productVariant: string (nullable = true)\n",
      " |    |    |    |    |-- v2ProductCategory: string (nullable = true)\n",
      " |    |    |    |    |-- v2ProductName: string (nullable = true)\n",
      " |    |    |-- promotion: array (nullable = true)\n",
      " |    |    |    |-- element: struct (containsNull = true)\n",
      " |    |    |    |    |-- promoCreative: string (nullable = true)\n",
      " |    |    |    |    |-- promoId: string (nullable = true)\n",
      " |    |    |    |    |-- promoName: string (nullable = true)\n",
      " |    |    |    |    |-- promoPosition: string (nullable = true)\n",
      " |    |    |-- promotionActionInfo: struct (nullable = true)\n",
      " |    |    |    |-- promoIsClick: boolean (nullable = true)\n",
      " |    |    |    |-- promoIsView: boolean (nullable = true)\n",
      " |    |    |-- publisher_infos: array (nullable = true)\n",
      " |    |    |    |-- element: string (containsNull = true)\n",
      " |    |    |-- referer: string (nullable = true)\n",
      " |    |    |-- social: struct (nullable = true)\n",
      " |    |    |    |-- hasSocialSourceReferral: string (nullable = true)\n",
      " |    |    |    |-- socialInteractionNetworkAction: string (nullable = true)\n",
      " |    |    |    |-- socialNetwork: string (nullable = true)\n",
      " |    |    |-- time: string (nullable = true)\n",
      " |    |    |-- transaction: struct (nullable = true)\n",
      " |    |    |    |-- affiliation: string (nullable = true)\n",
      " |    |    |    |-- currencyCode: string (nullable = true)\n",
      " |    |    |    |-- localTransactionRevenue: string (nullable = true)\n",
      " |    |    |    |-- localTransactionShipping: string (nullable = true)\n",
      " |    |    |    |-- localTransactionTax: string (nullable = true)\n",
      " |    |    |    |-- transactionId: string (nullable = true)\n",
      " |    |    |    |-- transactionRevenue: string (nullable = true)\n",
      " |    |    |    |-- transactionShipping: string (nullable = true)\n",
      " |    |    |    |-- transactionTax: string (nullable = true)\n",
      " |    |    |-- type: string (nullable = true)\n",
      " |-- socialEngagementType: string (nullable = true)\n",
      " |-- totals: struct (nullable = true)\n",
      " |    |-- bounces: string (nullable = true)\n",
      " |    |-- hits: string (nullable = true)\n",
      " |    |-- newVisits: string (nullable = true)\n",
      " |    |-- pageviews: string (nullable = true)\n",
      " |    |-- sessionQualityDim: string (nullable = true)\n",
      " |    |-- timeOnSite: string (nullable = true)\n",
      " |    |-- totalTransactionRevenue: string (nullable = true)\n",
      " |    |-- transactionRevenue: string (nullable = true)\n",
      " |    |-- transactions: string (nullable = true)\n",
      " |    |-- visits: string (nullable = true)\n",
      " |-- trafficSource: struct (nullable = true)\n",
      " |    |-- adContent: string (nullable = true)\n",
      " |    |-- adwordsClickInfo: struct (nullable = true)\n",
      " |    |    |-- adNetworkType: string (nullable = true)\n",
      " |    |    |-- criteriaParameters: string (nullable = true)\n",
      " |    |    |-- gclId: string (nullable = true)\n",
      " |    |    |-- isVideoAd: boolean (nullable = true)\n",
      " |    |    |-- page: string (nullable = true)\n",
      " |    |    |-- slot: string (nullable = true)\n",
      " |    |-- campaign: string (nullable = true)\n",
      " |    |-- isTrueDirect: boolean (nullable = true)\n",
      " |    |-- keyword: string (nullable = true)\n",
      " |    |-- medium: string (nullable = true)\n",
      " |    |-- referralPath: string (nullable = true)\n",
      " |    |-- source: string (nullable = true)\n",
      " |-- visitId: string (nullable = true)\n",
      " |-- visitNumber: string (nullable = true)\n",
      " |-- visitStartTime: string (nullable = true)\n",
      "\n"
     ]
    }
   ],
   "source": [
    "df.printSchema"
   ]
  },
  {
   "cell_type": "code",
   "execution_count": 16,
   "metadata": {},
   "outputs": [
    {
     "data": {
      "text/plain": [
       "2556"
      ]
     },
     "execution_count": 16,
     "metadata": {},
     "output_type": "execute_result"
    }
   ],
   "source": [
    "df.cache.count"
   ]
  },
  {
   "cell_type": "code",
   "execution_count": 27,
   "metadata": {},
   "outputs": [
    {
     "name": "stdout",
     "output_type": "stream",
     "text": [
      "+--------------------+-----+\n",
      "|             browser|count|\n",
      "+--------------------+-----+\n",
      "|              Chrome| 1900|\n",
      "|              Safari|  397|\n",
      "|             Firefox|  101|\n",
      "|   Internet Explorer|   54|\n",
      "|                Edge|   23|\n",
      "|          Opera Mini|   21|\n",
      "|     Android Webview|   19|\n",
      "|               Opera|   16|\n",
      "|     Safari (in-app)|   10|\n",
      "|          UC Browser|    6|\n",
      "|           YaBrowser|    2|\n",
      "|       Nokia Browser|    2|\n",
      "|     Android Browser|    2|\n",
      "|             Coc Coc|    2|\n",
      "|Mozilla Compatibl...|    1|\n",
      "+--------------------+-----+\n",
      "\n"
     ]
    }
   ],
   "source": [
    "df.groupBy($\"device.browser\").count.orderBy(F.desc(\"count\")).show"
   ]
  },
  {
   "cell_type": "code",
   "execution_count": 12,
   "metadata": {},
   "outputs": [
    {
     "data": {
      "text/plain": [
       "df2 = [channelGrouping: string, customDimensions: array<struct<index:string,value:string>> ... 12 more fields]\n"
      ]
     },
     "metadata": {},
     "output_type": "display_data"
    },
    {
     "data": {
      "text/plain": [
       "[channelGrouping: string, customDimensions: array<struct<index:string,value:string>> ... 12 more fields]"
      ]
     },
     "execution_count": 12,
     "metadata": {},
     "output_type": "execute_result"
    }
   ],
   "source": [
    "val df2 = df.withColumn(\"revenue\", $\"totals.transactionRevenue\"/1000000)"
   ]
  },
  {
   "cell_type": "code",
   "execution_count": 30,
   "metadata": {},
   "outputs": [
    {
     "name": "stdout",
     "output_type": "stream",
     "text": [
      "+-------+\n",
      "|revenue|\n",
      "+-------+\n",
      "|  35.29|\n",
      "|  27.43|\n",
      "|   1.99|\n",
      "|  13.29|\n",
      "|  11.96|\n",
      "|   33.5|\n",
      "|  200.0|\n",
      "|  45.67|\n",
      "|   2.99|\n",
      "|  28.79|\n",
      "|  43.64|\n",
      "|   55.0|\n",
      "|  48.77|\n",
      "| 347.14|\n",
      "| 982.73|\n",
      "|   44.0|\n",
      "|   22.4|\n",
      "|  169.9|\n",
      "|   26.0|\n",
      "|  82.48|\n",
      "+-------+\n",
      "only showing top 20 rows\n",
      "\n"
     ]
    }
   ],
   "source": [
    "df2.filter(\"revenue is not null\").select(\"revenue\").show"
   ]
  },
  {
   "cell_type": "code",
   "execution_count": 32,
   "metadata": {},
   "outputs": [
    {
     "name": "stdout",
     "output_type": "stream",
     "text": [
      "+--------+-----+------------------+---------------------+------------------------+------------+\n",
      "|    date|count|sum(totals.visits)|sum(totals.pageviews)|sum(totals.transactions)|sum(revenue)|\n",
      "+--------+-----+------------------+---------------------+------------------------+------------+\n",
      "|20170801| 2556|            2556.0|              10939.0|                    45.0|     8304.94|\n",
      "+--------+-----+------------------+---------------------+------------------------+------------+\n",
      "\n"
     ]
    }
   ],
   "source": [
    "df2.\n",
    " groupBy(\"date\").\n",
    " agg(\n",
    "     F.count(\"*\").alias(\"count\"),\n",
    "     F.sum(\"totals.visits\"),\n",
    "     F.sum(\"totals.pageviews\"),\n",
    "     F.sum(\"totals.transactions\"),\n",
    "     F.sum(\"revenue\")).\n",
    "show"
   ]
  },
  {
   "cell_type": "code",
   "execution_count": 33,
   "metadata": {},
   "outputs": [
    {
     "name": "stdout",
     "output_type": "stream",
     "text": [
      "+--------------------+------------------+\n",
      "|             browser|total_transactions|\n",
      "+--------------------+------------------+\n",
      "|Mozilla Compatibl...|              null|\n",
      "|   Internet Explorer|              null|\n",
      "|             Firefox|               1.0|\n",
      "|           YaBrowser|              null|\n",
      "|              Safari|               3.0|\n",
      "|       Nokia Browser|              null|\n",
      "|             Coc Coc|              null|\n",
      "|     Android Browser|              null|\n",
      "|          Opera Mini|              null|\n",
      "|     Android Webview|              null|\n",
      "|     Safari (in-app)|              null|\n",
      "|              Chrome|              41.0|\n",
      "|          UC Browser|              null|\n",
      "|                Edge|              null|\n",
      "|               Opera|              null|\n",
      "+--------------------+------------------+\n",
      "\n"
     ]
    }
   ],
   "source": [
    "df2.\n",
    "  groupBy(\"device.browser\").agg(F.sum(\"totals.transactions\").alias(\"total_transactions\")).\n",
    "  show\n"
   ]
  },
  {
   "cell_type": "code",
   "execution_count": 36,
   "metadata": {},
   "outputs": [
    {
     "name": "stdout",
     "output_type": "stream",
     "text": [
      "+--------------------+------------+-------------+------------------+\n",
      "|              source|total_visits|total_bounces|       bounce_rate|\n",
      "+--------------------+------------+-------------+------------------+\n",
      "|           quora.com|           6|          4.0| 66.66666666666667|\n",
      "|         youtube.com|         180|        139.0| 77.22222222222223|\n",
      "|productforums.goo...|           1|          1.0|             100.0|\n",
      "|                bing|           1|         null|              null|\n",
      "|     lm.facebook.com|           2|         null|              null|\n",
      "|         m.baidu.com|           1|          1.0|             100.0|\n",
      "|      l.facebook.com|           3|          3.0|             100.0|\n",
      "| ph.search.yahoo.com|           1|          1.0|             100.0|\n",
      "|          google.com|          12|          9.0|              75.0|\n",
      "|     docs.google.com|           1|         null|              null|\n",
      "|        sashihara.jp|           1|          1.0|             100.0|\n",
      "|analytics.google.com|          57|         34.0| 59.64912280701754|\n",
      "|           qiita.com|           5|          2.0|              40.0|\n",
      "|               baidu|           5|          4.0|              80.0|\n",
      "|                 dfa|          15|          6.0|              40.0|\n",
      "|          reddit.com|           4|         null|              null|\n",
      "|        facebook.com|           7|          4.0|57.142857142857146|\n",
      "|       dealspotr.com|           1|         null|              null|\n",
      "|                 ask|           2|          2.0|             100.0|\n",
      "|            (direct)|        2166|        985.0|45.475530932594644|\n",
      "+--------------------+------------+-------------+------------------+\n",
      "only showing top 20 rows\n",
      "\n"
     ]
    }
   ],
   "source": [
    "(df2\n",
    " .groupBy(\"trafficSource.source\")\n",
    " .agg(F.count(\"*\").alias(\"total_visits\"), \n",
    "      F.sum(\"totals.bounces\").alias(\"total_bounces\"),\n",
    "      (F.lit(100)*F.sum($\"totals.bounces\")/F.count($\"*\")).alias(\"bounce_rate\")\n",
    "     )\n",
    " \n",
    " ).show()"
   ]
  },
  {
   "cell_type": "code",
   "execution_count": 37,
   "metadata": {},
   "outputs": [
    {
     "name": "stdout",
     "output_type": "stream",
     "text": [
      "+-------------------+-------------------------+----------------------+---------+\n",
      "|      fullVisitorId|total_pagesviews_per_user|avg_pageviews_per_user|nb_visits|\n",
      "+-------------------+-------------------------+----------------------+---------+\n",
      "|7420300501523012460|                    133.0|                  66.5|        2|\n",
      "|3424918216070852195|                     43.0|                  43.0|        1|\n",
      "| 454845221896711463|                     13.0|                  13.0|        1|\n",
      "|1311003026247678016|                     14.0|                  14.0|        1|\n",
      "|5371617068925994598|                     23.0|                  23.0|        1|\n",
      "| 351681171177883933|                     45.0|                  45.0|        1|\n",
      "|0377506370870345639|                     24.0|                  24.0|        1|\n",
      "| 698297406423033664|                     16.0|                  16.0|        1|\n",
      "|6403816382362616234|                     31.0|                  31.0|        1|\n",
      "|1996186587769697436|                     15.0|                  15.0|        1|\n",
      "|0815047945706399620|                     16.0|                  16.0|        1|\n",
      "|1685335291483410828|                     18.0|                  18.0|        1|\n",
      "|4871061239735971842|                     18.0|                  18.0|        1|\n",
      "|7311242886083854158|                     17.0|                  17.0|        1|\n",
      "|8730493892218660083|                     16.0|                  16.0|        1|\n",
      "|0126612099954375841|                     32.0|                  32.0|        1|\n",
      "|3101662058536674321|                     58.0|                  58.0|        1|\n",
      "| 654736404761929369|                     22.0|                  22.0|        1|\n",
      "|9800325346437826374|                     27.0|                  27.0|        1|\n",
      "|9591202457292182670|                     18.0|                  18.0|        1|\n",
      "+-------------------+-------------------------+----------------------+---------+\n",
      "only showing top 20 rows\n",
      "\n"
     ]
    }
   ],
   "source": [
    "(df2\n",
    " .filter(\"totals.transactions >= 1\")\n",
    " .groupBy(\"fullVisitorId\")\n",
    " .agg( F.sum(\"totals.pageviews\").alias(\"total_pagesviews_per_user\"),\n",
    "      (F.sum(\"totals.pageviews\") / F.count(\"*\")).alias(\"avg_pageviews_per_user\"),\n",
    "       F.count(\"*\").alias(\"nb_visits\")\n",
    "     )\n",
    " .orderBy(F.desc(\"nb_visits\"))\n",
    ").show()"
   ]
  },
  {
   "cell_type": "code",
   "execution_count": 38,
   "metadata": {},
   "outputs": [
    {
     "name": "stdout",
     "output_type": "stream",
     "text": [
      "+-------------+-------------------------+----------------------+---------+\n",
      "|fullVisitorId|total_pagesviews_per_user|avg_pageviews_per_user|nb_visits|\n",
      "+-------------+-------------------------+----------------------+---------+\n",
      "+-------------+-------------------------+----------------------+---------+\n",
      "\n"
     ]
    }
   ],
   "source": [
    "(df2\n",
    " .filter(\"totals.transactions = 0\")\n",
    " .groupBy(\"fullVisitorId\")\n",
    " .agg( F.sum(\"totals.pageviews\").alias(\"total_pagesviews_per_user\"),\n",
    "      (F.sum(\"totals.pageviews\") / F.count(\"*\")).alias(\"avg_pageviews_per_user\"),\n",
    "       F.count(\"*\").alias(\"nb_visits\")\n",
    "     )\n",
    " .orderBy(F.desc(\"nb_visits\"))\n",
    ").show()"
   ]
  },
  {
   "cell_type": "code",
   "execution_count": 40,
   "metadata": {},
   "outputs": [
    {
     "name": "stdout",
     "output_type": "stream",
     "text": [
      "root\n",
      " |-- hits: array (nullable = true)\n",
      " |    |-- element: struct (containsNull = true)\n",
      " |    |    |-- appInfo: struct (nullable = true)\n",
      " |    |    |    |-- exitScreenName: string (nullable = true)\n",
      " |    |    |    |-- landingScreenName: string (nullable = true)\n",
      " |    |    |    |-- screenDepth: string (nullable = true)\n",
      " |    |    |    |-- screenName: string (nullable = true)\n",
      " |    |    |-- contentGroup: struct (nullable = true)\n",
      " |    |    |    |-- contentGroup1: string (nullable = true)\n",
      " |    |    |    |-- contentGroup2: string (nullable = true)\n",
      " |    |    |    |-- contentGroup3: string (nullable = true)\n",
      " |    |    |    |-- contentGroup4: string (nullable = true)\n",
      " |    |    |    |-- contentGroup5: string (nullable = true)\n",
      " |    |    |    |-- contentGroupUniqueViews1: string (nullable = true)\n",
      " |    |    |    |-- contentGroupUniqueViews2: string (nullable = true)\n",
      " |    |    |    |-- contentGroupUniqueViews3: string (nullable = true)\n",
      " |    |    |    |-- previousContentGroup1: string (nullable = true)\n",
      " |    |    |    |-- previousContentGroup2: string (nullable = true)\n",
      " |    |    |    |-- previousContentGroup3: string (nullable = true)\n",
      " |    |    |    |-- previousContentGroup4: string (nullable = true)\n",
      " |    |    |    |-- previousContentGroup5: string (nullable = true)\n",
      " |    |    |-- customDimensions: array (nullable = true)\n",
      " |    |    |    |-- element: string (containsNull = true)\n",
      " |    |    |-- customMetrics: array (nullable = true)\n",
      " |    |    |    |-- element: string (containsNull = true)\n",
      " |    |    |-- customVariables: array (nullable = true)\n",
      " |    |    |    |-- element: string (containsNull = true)\n",
      " |    |    |-- dataSource: string (nullable = true)\n",
      " |    |    |-- eCommerceAction: struct (nullable = true)\n",
      " |    |    |    |-- action_type: string (nullable = true)\n",
      " |    |    |    |-- option: string (nullable = true)\n",
      " |    |    |    |-- step: string (nullable = true)\n",
      " |    |    |-- eventInfo: struct (nullable = true)\n",
      " |    |    |    |-- eventAction: string (nullable = true)\n",
      " |    |    |    |-- eventCategory: string (nullable = true)\n",
      " |    |    |    |-- eventLabel: string (nullable = true)\n",
      " |    |    |-- exceptionInfo: struct (nullable = true)\n",
      " |    |    |    |-- isFatal: boolean (nullable = true)\n",
      " |    |    |-- experiment: array (nullable = true)\n",
      " |    |    |    |-- element: string (containsNull = true)\n",
      " |    |    |-- hitNumber: string (nullable = true)\n",
      " |    |    |-- hour: string (nullable = true)\n",
      " |    |    |-- isEntrance: boolean (nullable = true)\n",
      " |    |    |-- isExit: boolean (nullable = true)\n",
      " |    |    |-- isInteraction: boolean (nullable = true)\n",
      " |    |    |-- item: struct (nullable = true)\n",
      " |    |    |    |-- currencyCode: string (nullable = true)\n",
      " |    |    |    |-- transactionId: string (nullable = true)\n",
      " |    |    |-- latencyTracking: struct (nullable = true)\n",
      " |    |    |    |-- domContentLoadedTime: string (nullable = true)\n",
      " |    |    |    |-- domInteractiveTime: string (nullable = true)\n",
      " |    |    |    |-- domLatencyMetricsSample: string (nullable = true)\n",
      " |    |    |    |-- domainLookupTime: string (nullable = true)\n",
      " |    |    |    |-- pageDownloadTime: string (nullable = true)\n",
      " |    |    |    |-- pageLoadSample: string (nullable = true)\n",
      " |    |    |    |-- pageLoadTime: string (nullable = true)\n",
      " |    |    |    |-- redirectionTime: string (nullable = true)\n",
      " |    |    |    |-- serverConnectionTime: string (nullable = true)\n",
      " |    |    |    |-- serverResponseTime: string (nullable = true)\n",
      " |    |    |    |-- speedMetricsSample: string (nullable = true)\n",
      " |    |    |-- minute: string (nullable = true)\n",
      " |    |    |-- page: struct (nullable = true)\n",
      " |    |    |    |-- hostname: string (nullable = true)\n",
      " |    |    |    |-- pagePath: string (nullable = true)\n",
      " |    |    |    |-- pagePathLevel1: string (nullable = true)\n",
      " |    |    |    |-- pagePathLevel2: string (nullable = true)\n",
      " |    |    |    |-- pagePathLevel3: string (nullable = true)\n",
      " |    |    |    |-- pagePathLevel4: string (nullable = true)\n",
      " |    |    |    |-- pageTitle: string (nullable = true)\n",
      " |    |    |    |-- searchCategory: string (nullable = true)\n",
      " |    |    |    |-- searchKeyword: string (nullable = true)\n",
      " |    |    |-- product: array (nullable = true)\n",
      " |    |    |    |-- element: struct (containsNull = true)\n",
      " |    |    |    |    |-- customDimensions: array (nullable = true)\n",
      " |    |    |    |    |    |-- element: string (containsNull = true)\n",
      " |    |    |    |    |-- customMetrics: array (nullable = true)\n",
      " |    |    |    |    |    |-- element: string (containsNull = true)\n",
      " |    |    |    |    |-- isClick: boolean (nullable = true)\n",
      " |    |    |    |    |-- isImpression: boolean (nullable = true)\n",
      " |    |    |    |    |-- localProductPrice: string (nullable = true)\n",
      " |    |    |    |    |-- localProductRevenue: string (nullable = true)\n",
      " |    |    |    |    |-- productBrand: string (nullable = true)\n",
      " |    |    |    |    |-- productListName: string (nullable = true)\n",
      " |    |    |    |    |-- productListPosition: string (nullable = true)\n",
      " |    |    |    |    |-- productPrice: string (nullable = true)\n",
      " |    |    |    |    |-- productQuantity: string (nullable = true)\n",
      " |    |    |    |    |-- productRevenue: string (nullable = true)\n",
      " |    |    |    |    |-- productSKU: string (nullable = true)\n",
      " |    |    |    |    |-- productVariant: string (nullable = true)\n",
      " |    |    |    |    |-- v2ProductCategory: string (nullable = true)\n",
      " |    |    |    |    |-- v2ProductName: string (nullable = true)\n",
      " |    |    |-- promotion: array (nullable = true)\n",
      " |    |    |    |-- element: struct (containsNull = true)\n",
      " |    |    |    |    |-- promoCreative: string (nullable = true)\n",
      " |    |    |    |    |-- promoId: string (nullable = true)\n",
      " |    |    |    |    |-- promoName: string (nullable = true)\n",
      " |    |    |    |    |-- promoPosition: string (nullable = true)\n",
      " |    |    |-- promotionActionInfo: struct (nullable = true)\n",
      " |    |    |    |-- promoIsClick: boolean (nullable = true)\n",
      " |    |    |    |-- promoIsView: boolean (nullable = true)\n",
      " |    |    |-- publisher_infos: array (nullable = true)\n",
      " |    |    |    |-- element: string (containsNull = true)\n",
      " |    |    |-- referer: string (nullable = true)\n",
      " |    |    |-- social: struct (nullable = true)\n",
      " |    |    |    |-- hasSocialSourceReferral: string (nullable = true)\n",
      " |    |    |    |-- socialInteractionNetworkAction: string (nullable = true)\n",
      " |    |    |    |-- socialNetwork: string (nullable = true)\n",
      " |    |    |-- time: string (nullable = true)\n",
      " |    |    |-- transaction: struct (nullable = true)\n",
      " |    |    |    |-- affiliation: string (nullable = true)\n",
      " |    |    |    |-- currencyCode: string (nullable = true)\n",
      " |    |    |    |-- localTransactionRevenue: string (nullable = true)\n",
      " |    |    |    |-- localTransactionShipping: string (nullable = true)\n",
      " |    |    |    |-- localTransactionTax: string (nullable = true)\n",
      " |    |    |    |-- transactionId: string (nullable = true)\n",
      " |    |    |    |-- transactionRevenue: string (nullable = true)\n",
      " |    |    |    |-- transactionShipping: string (nullable = true)\n",
      " |    |    |    |-- transactionTax: string (nullable = true)\n",
      " |    |    |-- type: string (nullable = true)\n",
      "\n"
     ]
    }
   ],
   "source": [
    "df2.select(\"hits\").printSchema()"
   ]
  },
  {
   "cell_type": "code",
   "execution_count": 48,
   "metadata": {},
   "outputs": [
    {
     "name": "stdout",
     "output_type": "stream",
     "text": [
      "+-------------------+----------+-----------+----------------------------------------+---------+\n",
      "|      fullVisitorId|   visitId|visitNumber|                                pagePath|hitNumber|\n",
      "+-------------------+----------+-----------+----------------------------------------+---------+\n",
      "|0004915997121163857|1501620292|          1|  /google+redesign/shop+by+brand/youtube|        1|\n",
      "|0013182148727187801|1501580378|          1|                                   /home|        1|\n",
      "|0013182148727187801|1501580378|          1|                                   /home|        3|\n",
      "|0013182148727187801|1501580378|          1|/google+redesign/bags/backpacks/water...|        5|\n",
      "|0013182148727187801|1501580378|          1|                                   /home|        6|\n",
      "|0013182148727187801|1501580378|          1|/google+redesign/drinkware/google+17o...|        7|\n",
      "|0013182148727187801|1501580378|          1|                                   /home|        4|\n",
      "|0013182148727187801|1501580378|          1|   /google+redesign/shop+by+brand/google|        2|\n",
      "|0015547161740087073|1501625964|          2|/google+redesign/office/notebooks+jou...|        1|\n",
      "|0017557475227585700|1501610006|          2|                                   /home|        1|\n",
      "+-------------------+----------+-----------+----------------------------------------+---------+\n",
      "only showing top 10 rows\n",
      "\n"
     ]
    }
   ],
   "source": [
    "(df2\n",
    " .select($\"*\",F.explode($\"hits\").alias(\"hit\"))\n",
    " .select(\"fullVisitorId\",\"visitId\",\"visitNumber\",\"hit.page.pagePath\",\"hit.hitNumber\")\n",
    " .orderBy(\"fullVisitorId\",\"visitId\")\n",
    ").show(10,40)"
   ]
  },
  {
   "cell_type": "raw",
   "metadata": {},
   "source": [
    " temps ecoule depuis la derniere visite?"
   ]
  },
  {
   "cell_type": "raw",
   "metadata": {},
   "source": [
    " Quel est le nombre moyen d'interactions de l'utilisateur avant un achat ?"
   ]
  },
  {
   "cell_type": "code",
   "execution_count": 52,
   "metadata": {},
   "outputs": [
    {
     "name": "stdout",
     "output_type": "stream",
     "text": [
      "root\n",
      " |-- product: struct (nullable = true)\n",
      " |    |-- customDimensions: array (nullable = true)\n",
      " |    |    |-- element: string (containsNull = true)\n",
      " |    |-- customMetrics: array (nullable = true)\n",
      " |    |    |-- element: string (containsNull = true)\n",
      " |    |-- isClick: boolean (nullable = true)\n",
      " |    |-- isImpression: boolean (nullable = true)\n",
      " |    |-- localProductPrice: string (nullable = true)\n",
      " |    |-- localProductRevenue: string (nullable = true)\n",
      " |    |-- productBrand: string (nullable = true)\n",
      " |    |-- productListName: string (nullable = true)\n",
      " |    |-- productListPosition: string (nullable = true)\n",
      " |    |-- productPrice: string (nullable = true)\n",
      " |    |-- productQuantity: string (nullable = true)\n",
      " |    |-- productRevenue: string (nullable = true)\n",
      " |    |-- productSKU: string (nullable = true)\n",
      " |    |-- productVariant: string (nullable = true)\n",
      " |    |-- v2ProductCategory: string (nullable = true)\n",
      " |    |-- v2ProductName: string (nullable = true)\n",
      "\n"
     ]
    }
   ],
   "source": [
    "(df2\n",
    " .select(F.explode($\"hits\").alias(\"hit\"))\n",
    " .select(F.explode($\"hit.product\").alias(\"product\"))\n",
    " .select(F.col(\"product\"))\n",
    " \n",
    ").printSchema()"
   ]
  },
  {
   "cell_type": "code",
   "execution_count": 54,
   "metadata": {},
   "outputs": [
    {
     "name": "stdout",
     "output_type": "stream",
     "text": [
      "+--------------------+--------------------+\n",
      "|   v2ProductCategory|       v2ProductName|\n",
      "+--------------------+--------------------+\n",
      "|   Home/Electronics/|   Google Flashlight|\n",
      "|Home/Shop by Bran...|Android Wool Heat...|\n",
      "|          Home/Bags/|Google Canvas Tot...|\n",
      "| Home/Apparel/Kid's/|Google Infant Sho...|\n",
      "|Home/Apparel/Wome...|Google Women's Co...|\n",
      "|Home/Apparel/Kid'...|Google Infant Sho...|\n",
      "| Home/Apparel/Men's/|Google Men's Colo...|\n",
      "| Home/Shop by Brand/|YouTube Men's Vin...|\n",
      "|Home/Accessories/...|Google Car Clip P...|\n",
      "|Home/Apparel/Men'...|Google Men's 100%...|\n",
      "|                 Fun|  Google Luggage Tag|\n",
      "|Home/Apparel/Men'...|Google Men's  Zip...|\n",
      "|Home/Apparel/Wome...|Google Women's We...|\n",
      "| Home/Shop by Brand/|      Windup Android|\n",
      "|Home/Apparel/Men'...|Google Men's Micr...|\n",
      "|Home/Shop by Bran...|22 oz Android Bottle|\n",
      "| Home/Apparel/Men's/|Google Men's 100%...|\n",
      "|Home/Office/Noteb...| Google RFID Journal|\n",
      "|Home/Office/Writi...|Ballpoint Stylus Pen|\n",
      "|Home/Bags/Shoppin...|Collapsible Shopp...|\n",
      "+--------------------+--------------------+\n",
      "only showing top 20 rows\n",
      "\n"
     ]
    }
   ],
   "source": [
    "(df2\n",
    " .select(F.explode($\"hits\").alias(\"hit\"))\n",
    " .select(F.explode($\"hit.product\").alias(\"product\"))\n",
    " .select(\"product.v2ProductCategory\",\"product.v2ProductName\")\n",
    " .distinct()\n",
    ").show()"
   ]
  },
  {
   "cell_type": "code",
   "execution_count": 56,
   "metadata": {},
   "outputs": [
    {
     "name": "stdout",
     "output_type": "stream",
     "text": [
      "+-------+--------------------+--------------------+\n",
      "|browser|   v2ProductCategory|       v2ProductName|\n",
      "+-------+--------------------+--------------------+\n",
      "| Chrome|   Home/Electronics/|Electronics Acces...|\n",
      "| Chrome|   Home/Electronics/|   Google Flashlight|\n",
      "| Chrome|   Home/Electronics/|Micro Wireless Ea...|\n",
      "| Chrome|   Home/Electronics/|Google Car Clip P...|\n",
      "| Chrome|   Home/Electronics/|Keyboard DOT Sticker|\n",
      "| Chrome|   Home/Electronics/|Google Device Hol...|\n",
      "| Chrome|   Home/Electronics/| Google Device Stand|\n",
      "| Chrome|   Home/Electronics/|Google 2200mAh Mi...|\n",
      "| Chrome|   Home/Electronics/|Google 4400mAh Po...|\n",
      "| Chrome|   Home/Electronics/|Basecamp Explorer...|\n",
      "| Chrome|   Home/Electronics/|   Rocket Flashlight|\n",
      "| Chrome|   Home/Electronics/|Plastic Sliding F...|\n",
      "| Chrome|Home/Apparel/Men'...|Google Tri-blend ...|\n",
      "| Chrome|Home/Apparel/Men'...|Google Men's  Zip...|\n",
      "| Chrome|Home/Apparel/Men'...|Google Men's Wate...|\n",
      "| Chrome|Home/Apparel/Men'...|Google Men's Airf...|\n",
      "| Chrome|Home/Apparel/Men'...|Google Men's Airf...|\n",
      "| Chrome|Home/Apparel/Men'...|Google Men's Conv...|\n",
      "| Chrome|Home/Apparel/Men'...|Google Men's Micr...|\n",
      "| Chrome|Home/Apparel/Men'...|Google Men's Quil...|\n",
      "+-------+--------------------+--------------------+\n",
      "only showing top 20 rows\n",
      "\n"
     ]
    }
   ],
   "source": [
    "(df2\n",
    " .select(F.col(\"device.browser\").alias(\"browser\"),F.explode($\"hits\").alias(\"hit\"))\n",
    " .select($\"browser\",F.explode($\"hit.product\").alias(\"product\"))\n",
    " .select(\"browser\",\"product.v2ProductCategory\",\"product.v2ProductName\")\n",
    "\n",
    ").show()"
   ]
  },
  {
   "cell_type": "code",
   "execution_count": 60,
   "metadata": {},
   "outputs": [
    {
     "name": "stdout",
     "output_type": "stream",
     "text": [
      "+--------------------+---------------+---------------+------+-------+----+-------+-----------------+------------------------+-------------+-----+----------+------+---------------+----------+---------+\n",
      "|       v2ProductName|Android Browser|Android Webview|Chrome|Coc Coc|Edge|Firefox|Internet Explorer|Mozilla Compatible Agent|Nokia Browser|Opera|Opera Mini|Safari|Safari (in-app)|UC Browser|YaBrowser|\n",
      "+--------------------+---------------+---------------+------+-------+----+-------+-----------------+------------------------+-------------+-----+----------+------+---------------+----------+---------+\n",
      "|  Gift Card- $100.00|              0|              0|    17|      0|   0|      0|                0|                       0|            0|    0|         0|     0|              0|         0|        0|\n",
      "|Google Men's Perf...|              0|              0|   313|      0|   1|     10|                1|                       0|            0|    1|         0|    25|              0|         1|        1|\n",
      "|Android Women's S...|              0|              0|    46|      0|   0|      3|                2|                       0|            0|    0|         0|     7|              0|         0|        0|\n",
      "|Google Executive ...|              0|              0|    66|      0|   0|      4|                0|                       0|            0|    0|         0|     3|              0|         0|        0|\n",
      "|Google Women's Sc...|              0|              0|   128|      0|   0|      1|                1|                       0|            0|    0|         0|     8|              0|         0|        0|\n",
      "|Android Infant Sh...|              0|              0|    34|      0|   0|      1|                0|                       0|            0|    0|         0|     0|              0|         0|        0|\n",
      "|Google Stylus Pen...|              0|              0|    60|      0|   0|      6|                0|                       0|            0|    2|         0|    10|              0|         0|        0|\n",
      "| Red Shine 15 oz Mug|              0|              0|   173|      0|   1|     11|                1|                       0|            0|    3|         0|    13|              0|         0|        0|\n",
      "|YouTube Men's Sho...|              1|             10|   503|      1|  14|     44|               27|                       1|            2|    5|        17|   227|              1|        10|        1|\n",
      "|Google Women's Sh...|              0|              0|    14|      0|   0|      1|                0|                       0|            0|    0|         0|     3|              0|         0|        0|\n",
      "|Android RFID Journal|              0|              2|   263|      0|   1|     12|                4|                       0|            0|    4|         0|    27|              0|         0|        0|\n",
      "|Google Men's 100%...|              0|              0|    35|      0|   0|      3|                0|                       0|            0|    0|         0|     2|              0|         0|        0|\n",
      "|8 pc Android Stic...|              0|              0|   286|      0|   2|      7|                7|                       0|            0|    3|         1|    41|              0|         0|        0|\n",
      "|Google Women's 3/...|              0|              0|   145|      0|   0|      4|                1|                       0|            0|    0|         0|    12|              0|         0|        0|\n",
      "| Google Device Stand|              0|              2|   360|      0|   3|     13|                6|                       0|            0|    5|         0|    53|              0|         0|        0|\n",
      "|Micro Wireless Ea...|              0|              1|   247|      0|   2|      6|                5|                       0|            0|    5|         0|    26|              0|         0|        0|\n",
      "|Google Men's 100%...|              0|              0|   162|      0|   1|      5|                2|                       0|            0|    1|         0|     9|              0|         0|        1|\n",
      "|Waze Mobile Phone...|              0|              1|    72|      0|   1|      3|                0|                       0|            0|    1|         0|     1|              1|         0|        0|\n",
      "|      Google Bib Red|              0|              0|   183|      0|   1|     10|                1|                       0|            0|    3|         1|    46|              0|         0|        0|\n",
      "|Google Women's Sh...|              0|              2|    58|      0|   0|      3|                3|                       0|            0|    0|         0|     4|              0|         0|        0|\n",
      "+--------------------+---------------+---------------+------+-------+----+-------+-----------------+------------------------+-------------+-----+----------+------+---------------+----------+---------+\n",
      "only showing top 20 rows\n",
      "\n"
     ]
    }
   ],
   "source": [
    "(df2\n",
    " .select(F.col(\"device.browser\").alias(\"browser\"),F.explode($\"hits\").alias(\"hit\"))\n",
    " .select($\"browser\",F.explode($\"hit.product\").alias(\"product\"))\n",
    " .select(\"browser\",\"product.v2ProductCategory\",\"product.v2ProductName\")\n",
    " .groupBy(\"v2ProductName\")\n",
    " .pivot(\"browser\")\n",
    " .count()\n",
    " .na.fill(0)\n",
    ").show()"
   ]
  },
  {
   "cell_type": "code",
   "execution_count": 61,
   "metadata": {},
   "outputs": [
    {
     "name": "stdout",
     "output_type": "stream",
     "text": [
      "+--------------------+-----+\n",
      "|             browser|count|\n",
      "+--------------------+-----+\n",
      "|              Chrome| 1900|\n",
      "|              Safari|  397|\n",
      "|             Firefox|  101|\n",
      "|   Internet Explorer|   54|\n",
      "|                Edge|   23|\n",
      "|          Opera Mini|   21|\n",
      "|     Android Webview|   19|\n",
      "|               Opera|   16|\n",
      "|     Safari (in-app)|   10|\n",
      "|          UC Browser|    6|\n",
      "|     Android Browser|    2|\n",
      "|           YaBrowser|    2|\n",
      "|             Coc Coc|    2|\n",
      "|       Nokia Browser|    2|\n",
      "|Mozilla Compatibl...|    1|\n",
      "+--------------------+-----+\n",
      "\n"
     ]
    }
   ],
   "source": [
    "df2.groupBy(\"device.browser\").count().orderBy(F.desc(\"count\")).show"
   ]
  },
  {
   "cell_type": "code",
   "execution_count": 66,
   "metadata": {},
   "outputs": [
    {
     "data": {
      "text/plain": [
       "new_browser = CASE WHEN (device.browser IN (Chrome, Safari, Firefox, Internet Explorer)) THEN device.browser ELSE Other END\n"
      ]
     },
     "metadata": {},
     "output_type": "display_data"
    },
    {
     "data": {
      "text/plain": [
       "CASE WHEN (device.browser IN (Chrome, Safari, Firefox, Internet Explorer)) THEN device.browser ELSE Other END"
      ]
     },
     "execution_count": 66,
     "metadata": {},
     "output_type": "execute_result"
    }
   ],
   "source": [
    "val new_browser = F.when(F.col(\"device.browser\").isin(\"Chrome\",\"Safari\",\"Firefox\",\"Internet Explorer\"),\n",
    "                         F.col(\"device.browser\"))\n",
    ".otherwise(\"Other\")"
   ]
  },
  {
   "cell_type": "code",
   "execution_count": 68,
   "metadata": {},
   "outputs": [
    {
     "name": "stdout",
     "output_type": "stream",
     "text": [
      "+--------------------+------+-------+-----------------+-----+------+\n",
      "|       v2ProductName|Chrome|Firefox|Internet Explorer|Other|Safari|\n",
      "+--------------------+------+-------+-----------------+-----+------+\n",
      "|  Gift Card- $100.00|    17|      0|                0|    0|     0|\n",
      "|Google Men's Perf...|   313|     10|                1|    4|    25|\n",
      "|Android Women's S...|    46|      3|                2|    0|     7|\n",
      "|Google Executive ...|    66|      4|                0|    0|     3|\n",
      "|Google Women's Sc...|   128|      1|                1|    0|     8|\n",
      "|Android Infant Sh...|    34|      1|                0|    0|     0|\n",
      "| Red Shine 15 oz Mug|   173|     11|                1|    4|    13|\n",
      "|Google Stylus Pen...|    60|      6|                0|    2|    10|\n",
      "|YouTube Men's Sho...|   503|     44|               27|   63|   227|\n",
      "|Google Women's Sh...|    14|      1|                0|    0|     3|\n",
      "|Android RFID Journal|   263|     12|                4|    7|    27|\n",
      "|Google Men's 100%...|    35|      3|                0|    0|     2|\n",
      "|8 pc Android Stic...|   286|      7|                7|    6|    41|\n",
      "|Google Women's 3/...|   145|      4|                1|    0|    12|\n",
      "| Google Device Stand|   360|     13|                6|   10|    53|\n",
      "|Micro Wireless Ea...|   247|      6|                5|    8|    26|\n",
      "|Google Men's 100%...|   162|      5|                2|    3|     9|\n",
      "|Waze Mobile Phone...|    72|      3|                0|    4|     1|\n",
      "|Google Women's Sh...|    58|      3|                3|    2|     4|\n",
      "|      Google Bib Red|   183|     10|                1|    5|    46|\n",
      "+--------------------+------+-------+-----------------+-----+------+\n",
      "only showing top 20 rows\n",
      "\n"
     ]
    }
   ],
   "source": [
    "(df2\n",
    " .select(new_browser.alias(\"browser\"),F.explode($\"hits\").alias(\"hit\"))\n",
    " .select($\"browser\",F.explode($\"hit.product\").alias(\"product\"))\n",
    " .select(\"browser\",\"product.v2ProductCategory\",\"product.v2ProductName\")\n",
    " .groupBy(\"v2ProductName\")\n",
    " .pivot(\"browser\")\n",
    " .count()\n",
    " .na.fill(0)\n",
    ").show()"
   ]
  },
  {
   "cell_type": "code",
   "execution_count": 69,
   "metadata": {},
   "outputs": [
    {
     "data": {
      "text/plain": [
       "df3 = [v2ProductName: string, Chrome: bigint ... 4 more fields]\n"
      ]
     },
     "metadata": {},
     "output_type": "display_data"
    },
    {
     "data": {
      "text/plain": [
       "[v2ProductName: string, Chrome: bigint ... 4 more fields]"
      ]
     },
     "execution_count": 69,
     "metadata": {},
     "output_type": "execute_result"
    }
   ],
   "source": [
    "val df3 = (df2\n",
    " .select(new_browser.alias(\"browser\"),F.explode($\"hits\").alias(\"hit\"))\n",
    " .select($\"browser\",F.explode($\"hit.product\").alias(\"product\"))\n",
    " .select(\"browser\",\"product.v2ProductCategory\",\"product.v2ProductName\")\n",
    " .groupBy(\"v2ProductName\")\n",
    " .pivot(\"browser\")\n",
    " .count()\n",
    " .na.fill(0)\n",
    ")"
   ]
  },
  {
   "cell_type": "code",
   "execution_count": 71,
   "metadata": {},
   "outputs": [
    {
     "name": "stdout",
     "output_type": "stream",
     "text": [
      "+--------------------------------------------------+------+-------+-----------------+-----+------+\n",
      "|v2ProductName                                     |Chrome|Firefox|Internet Explorer|Other|Safari|\n",
      "+--------------------------------------------------+------+-------+-----------------+-----+------+\n",
      "|Google Executive Umbrella                         |66    |4      |0                |0    |3     |\n",
      "|Android Infant Short Sleeve Tee Pink              |34    |1      |0                |0    |0     |\n",
      "|Google Men's 100% Cotton Short Sleeve Hero Tee Red|35    |3      |0                |0    |2     |\n",
      "|Waze Mobile Phone Vent Mount                      |72    |3      |0                |4    |1     |\n",
      "|Google Men's Vintage Badge Tee White              |0     |1      |0                |0    |0     |\n",
      "|Android Luggage Tag                               |225   |16     |1                |4    |14    |\n",
      "|Waze Mood Original Window Decal                   |95    |4      |1                |1    |3     |\n",
      "|Satin Black Ballpoint Pen                         |96    |15     |0                |2    |10    |\n",
      "|7&quot; Dog Frisbee                               |36    |2      |0                |0    |1     |\n",
      "|Metal Texture Roller Pen                          |82    |13     |0                |2    |10    |\n",
      "|Google G Noise-reducing Bluetooth Headphones      |161   |10     |1                |5    |5     |\n",
      "|Google Car Clip Phone Holder                      |159   |13     |1                |2    |12    |\n",
      "|Google Leather Journal-Black                      |29    |3      |0                |0    |0     |\n",
      "|Google Luggage Tag                                |200   |12     |1                |1    |6     |\n",
      "|Google Leather Journal                            |22    |3      |0                |0    |0     |\n",
      "|Waze Mood Ninja Window Decal                      |87    |4      |1                |1    |3     |\n",
      "|Google Spiral Leather Journal                     |112   |4      |0                |0    |2     |\n",
      "|Google Women's Short Sleeve Badge Tee Grey        |31    |3      |1                |0    |2     |\n",
      "|SPF-15 Slim & Slender Lip Balm                    |148   |6      |0                |1    |4     |\n",
      "|Google Men's Vintage Badge Tee Sage               |0     |1      |0                |0    |0     |\n",
      "+--------------------------------------------------+------+-------+-----------------+-----+------+\n",
      "only showing top 20 rows\n",
      "\n"
     ]
    }
   ],
   "source": [
    "df3.filter(\"Firefox > Safari\").show(truncate=false)"
   ]
  },
  {
   "cell_type": "code",
   "execution_count": 72,
   "metadata": {},
   "outputs": [
    {
     "name": "stdout",
     "output_type": "stream",
     "text": [
      "+-------------------------------------------------------+------+-------+-----------------+-----+------+\n",
      "|v2ProductName                                          |Chrome|Firefox|Internet Explorer|Other|Safari|\n",
      "+-------------------------------------------------------+------+-------+-----------------+-----+------+\n",
      "|Google Men's Performance Full Zip Jacket Black         |313   |10     |1                |4    |25    |\n",
      "|Android Women's Short Sleeve Badge Tee Dark Heather    |46    |3      |2                |0    |7     |\n",
      "|Google Women's Scoop Neck Tee Black                    |128   |1      |1                |0    |8     |\n",
      "|Red Shine 15 oz Mug                                    |173   |11     |1                |4    |13    |\n",
      "|Google Stylus Pen w/ LED Light                         |60    |6      |0                |2    |10    |\n",
      "|YouTube Men's Short Sleeve Hero Tee Black              |503   |44     |27               |63   |227   |\n",
      "|Google Women's Short Sleeve Hero Tee Red Heather       |14    |1      |0                |0    |3     |\n",
      "|Android RFID Journal                                   |263   |12     |4                |7    |27    |\n",
      "|8 pc Android Sticker Sheet                             |286   |7      |7                |6    |41    |\n",
      "|Google Women's 3/4 Sleeve Baseball Raglan Heather/Black|145   |4      |1                |0    |12    |\n",
      "|Google Device Stand                                    |360   |13     |6                |10   |53    |\n",
      "|Micro Wireless Earbud                                  |247   |6      |5                |8    |26    |\n",
      "|Google Men's 100% Cotton Short Sleeve Hero Tee Black   |162   |5      |2                |3    |9     |\n",
      "|Google Women's Short Sleeve Performance Tee Charcoal   |58    |3      |3                |2    |4     |\n",
      "|Google Bib Red                                         |183   |10     |1                |5    |46    |\n",
      "|Foam Can and Bottle Cooler                             |200   |9      |1                |5    |16    |\n",
      "|Google Infant Short Sleeve Tee Royal Blue              |53    |3      |0                |0    |9     |\n",
      "|UpCycled Bike Saddle Bag                               |266   |10     |0                |3    |31    |\n",
      "|Android Onesie Gold                                    |63    |3      |0                |0    |9     |\n",
      "|Google Bib White                                       |185   |12     |1                |5    |46    |\n",
      "+-------------------------------------------------------+------+-------+-----------------+-----+------+\n",
      "only showing top 20 rows\n",
      "\n"
     ]
    }
   ],
   "source": [
    "df3.filter(\"Firefox < Safari\").show(truncate=false)"
   ]
  },
  {
   "cell_type": "markdown",
   "metadata": {},
   "source": [
    "## RDD "
   ]
  },
  {
   "cell_type": "code",
   "execution_count": 2,
   "metadata": {},
   "outputs": [
    {
     "data": {
      "text/plain": [
       "org.apache.spark.sql.SparkSession@30501b89"
      ]
     },
     "execution_count": 2,
     "metadata": {},
     "output_type": "execute_result"
    }
   ],
   "source": [
    "spark"
   ]
  },
  {
   "cell_type": "code",
   "execution_count": null,
   "metadata": {},
   "outputs": [],
   "source": []
  },
  {
   "cell_type": "code",
   "execution_count": null,
   "metadata": {},
   "outputs": [],
   "source": []
  },
  {
   "cell_type": "code",
   "execution_count": 3,
   "metadata": {},
   "outputs": [
    {
     "data": {
      "text/plain": [
       "rdd = ga_sample.json.gz MapPartitionsRDD[1] at textFile at <console>:27\n"
      ]
     },
     "metadata": {},
     "output_type": "display_data"
    },
    {
     "data": {
      "text/plain": [
       "ga_sample.json.gz MapPartitionsRDD[1] at textFile at <console>:27"
      ]
     },
     "execution_count": 3,
     "metadata": {},
     "output_type": "execute_result"
    }
   ],
   "source": [
    "val rdd = spark.parkContext.textFile(\"ga_sample.json.gz\")"
   ]
  },
  {
   "cell_type": "code",
   "execution_count": 4,
   "metadata": {},
   "outputs": [
    {
     "data": {
      "text/plain": [
       "{\"visitNumber\":\"1\",\"visitId\":\"1501583974\",\"visitStartTime\":\"1501583974\",\"date\":\"20170801\",\"totals\":{\"visits\":\"1\",\"hits\":\"1\",\"pageviews\":\"1\",\"bounces\":\"1\",\"newVisits\":\"1\",\"sessionQualityDim\":\"1\"},\"trafficSource\":{\"campaign\":\"(not set)\",\"source\":\"(direct)\",\"medium\":\"(none)\",\"adwordsClickInfo\":{\"criteriaParameters\":\"not available in demo dataset\"}},\"device\":{\"browser\":\"Chrome\",\"browserVersion\":\"not available in demo dataset\",\"browserSize\":\"not available in demo dataset\",\"operatingSystem\":\"Android\",\"operatingSystemVersion\":\"not available in demo dataset\",\"isMobile\":true,\"mobileDeviceBranding\":\"not available in demo dataset\",\"mobileDeviceModel\":\"not available in demo dataset\",\"mobileInputSelector\":\"not available in demo dataset\",\"mobileDeviceInfo\":\"not available in demo datase..."
      ]
     },
     "execution_count": 4,
     "metadata": {},
     "output_type": "execute_result"
    }
   ],
   "source": [
    "rdd.first"
   ]
  },
  {
   "cell_type": "code",
   "execution_count": 5,
   "metadata": {},
   "outputs": [],
   "source": [
    "import play.api.libs.json._"
   ]
  },
  {
   "cell_type": "code",
   "execution_count": 6,
   "metadata": {},
   "outputs": [
    {
     "data": {
      "text/plain": [
       "parsed = MapPartitionsRDD[2] at map at <console>:30\n"
      ]
     },
     "metadata": {},
     "output_type": "display_data"
    },
    {
     "data": {
      "text/plain": [
       "MapPartitionsRDD[2] at map at <console>:30"
      ]
     },
     "execution_count": 6,
     "metadata": {},
     "output_type": "execute_result"
    }
   ],
   "source": [
    "val parsed = rdd.map(x => Json.parse(x))"
   ]
  },
  {
   "cell_type": "code",
   "execution_count": 7,
   "metadata": {},
   "outputs": [
    {
     "data": {
      "text/plain": [
       "{\"visitNumber\":\"1\",\"visitId\":\"1501583974\",\"visitStartTime\":\"1501583974\",\"date\":\"20170801\",\"totals\":{\"visits\":\"1\",\"hits\":\"1\",\"pageviews\":\"1\",\"bounces\":\"1\",\"newVisits\":\"1\",\"sessionQualityDim\":\"1\"},\"trafficSource\":{\"campaign\":\"(not set)\",\"source\":\"(direct)\",\"medium\":\"(none)\",\"adwordsClickInfo\":{\"criteriaParameters\":\"not available in demo dataset\"}},\"device\":{\"browser\":\"Chrome\",\"browserVersion\":\"not available in demo dataset\",\"browserSize\":\"not available in demo dataset\",\"operatingSystem\":\"Android\",\"operatingSystemVersion\":\"not available in demo dataset\",\"isMobile\":true,\"mobileDeviceBranding\":\"not available in demo dataset\",\"mobileDeviceModel\":\"not available in demo dataset\",\"mobileInputSelector\":\"not available in demo dataset\",\"mobileDeviceInfo\":\"not ava..."
      ]
     },
     "execution_count": 7,
     "metadata": {},
     "output_type": "execute_result"
    }
   ],
   "source": [
    "parsed.first"
   ]
  },
  {
   "cell_type": "markdown",
   "metadata": {},
   "source": [
    "### Query 1"
   ]
  },
  {
   "cell_type": "code",
   "execution_count": 13,
   "metadata": {},
   "outputs": [
    {
     "name": "stdout",
     "output_type": "stream",
     "text": [
      "+-----------------+-----+\n",
      "|          browser|count|\n",
      "+-----------------+-----+\n",
      "|           Chrome| 1900|\n",
      "|           Safari|  397|\n",
      "|          Firefox|  101|\n",
      "|Internet Explorer|   54|\n",
      "|             Edge|   23|\n",
      "+-----------------+-----+\n",
      "only showing top 5 rows\n",
      "\n"
     ]
    }
   ],
   "source": [
    "df.groupBy(\"device.browser\").count().orderBy(F.desc(\"count\")).show(5)"
   ]
  },
  {
   "cell_type": "code",
   "execution_count": 18,
   "metadata": {},
   "outputs": [
    {
     "data": {
      "text/plain": [
       "Chrome"
      ]
     },
     "execution_count": 18,
     "metadata": {},
     "output_type": "execute_result"
    }
   ],
   "source": [
    "parsed.map(x => (x \\ \"device\" \\ \"browser\").as[String]).first"
   ]
  },
  {
   "cell_type": "code",
   "execution_count": 25,
   "metadata": {},
   "outputs": [
    {
     "data": {
      "text/plain": [
       "Array((Chrome,1900), (Safari,397), (Firefox,101), (Internet Explorer,54), (Edge,23))"
      ]
     },
     "execution_count": 25,
     "metadata": {},
     "output_type": "execute_result"
    }
   ],
   "source": [
    "// RDD \n",
    "(parsed\n",
    " .map(x => ((x \\ \"device\" \\ \"browser\").as[String],1 ))\n",
    " .reduceByKey((x,y) => x + y)\n",
    " .top(5)(Ordering[(Int)].on(x=>x._2))\n",
    ")"
   ]
  },
  {
   "cell_type": "code",
   "execution_count": null,
   "metadata": {},
   "outputs": [],
   "source": []
  }
 ],
 "metadata": {
  "kernelspec": {
   "display_name": "Apache Toree - Scala",
   "language": "scala",
   "name": "apache_toree_scala"
  },
  "language_info": {
   "codemirror_mode": "text/x-scala",
   "file_extension": ".scala",
   "mimetype": "text/x-scala",
   "name": "scala",
   "pygments_lexer": "scala",
   "version": "2.11.12"
  }
 },
 "nbformat": 4,
 "nbformat_minor": 2
}
